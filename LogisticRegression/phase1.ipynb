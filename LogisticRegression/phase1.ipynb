{
 "cells": [
  {
   "cell_type": "code",
   "execution_count": 48,
   "metadata": {},
   "outputs": [],
   "source": [
    "# LOGISTIC REGRESSION IMPELEMENTATION\n",
    "# Importing dependencies\n",
    "import pandas as pd\n",
    "from sklearn.model_selection import train_test_split\n",
    "import matplotlib.pyplot as plt"
   ]
  },
  {
   "cell_type": "code",
   "execution_count": 28,
   "metadata": {},
   "outputs": [],
   "source": [
    "# Training and testing data preperation\n",
    "training_data = pd.read_csv(\"../Data/TrainingData.csv\")"
   ]
  },
  {
   "cell_type": "code",
   "execution_count": 50,
   "metadata": {},
   "outputs": [
    {
     "name": "stdout",
     "output_type": "stream",
     "text": [
      "    home_team_name  away_team_name  home_team_goal_count  \\\n",
      "0               10               0              1.000000   \n",
      "1               31              21              1.666667   \n",
      "2               27              22              2.000000   \n",
      "3                6               7              2.333333   \n",
      "4                3              15              1.666667   \n",
      "5                2              14              3.000000   \n",
      "6               28              29              1.666667   \n",
      "7                4               9              1.666667   \n",
      "8               31              10              1.666667   \n",
      "9                3               2              1.666667   \n",
      "10              28               9              1.666667   \n",
      "11              22               6              2.666667   \n",
      "12              10               2              1.000000   \n",
      "13               6               9              2.333333   \n",
      "14               2               9              3.000000   \n",
      "15              10               6              1.000000   \n",
      "\n",
      "    away_team_goal_count  home_team_corner_count  away_team_corner_count  \\\n",
      "0               1.000000                4.000000                6.666667   \n",
      "1               1.666667                4.000000                4.666667   \n",
      "2               2.666667                6.000000                5.000000   \n",
      "3               0.666667                4.333333                4.666667   \n",
      "4               1.000000                8.333333                4.333333   \n",
      "5               1.333333                5.333333                4.333333   \n",
      "6               1.666667                4.000000                5.000000   \n",
      "7               2.666667                3.666667                5.666667   \n",
      "8               1.000000                4.000000                4.000000   \n",
      "9               3.000000                8.333333                5.333333   \n",
      "10              2.666667                4.000000                5.666667   \n",
      "11              2.333333                5.000000                4.333333   \n",
      "12              3.000000                4.000000                5.333333   \n",
      "13              2.666667                4.333333                5.666667   \n",
      "14              2.666667                5.333333                5.666667   \n",
      "15              2.333333                4.000000                4.333333   \n",
      "\n",
      "    home_team_yellow_cards  home_team_red_cards  away_team_yellow_cards  \\\n",
      "0                 1.000000             0.000000                2.000000   \n",
      "1                 0.333333             0.000000                2.000000   \n",
      "2                 0.333333             0.000000                1.333333   \n",
      "3                 2.666667             0.000000                1.666667   \n",
      "4                 1.000000             0.000000                1.666667   \n",
      "5                 1.666667             0.000000                1.333333   \n",
      "6                 1.666667             0.000000                2.333333   \n",
      "7                 1.000000             0.333333                0.666667   \n",
      "8                 0.333333             0.000000                1.000000   \n",
      "9                 1.000000             0.000000                1.666667   \n",
      "10                1.666667             0.000000                0.666667   \n",
      "11                1.333333             0.333333                2.666667   \n",
      "12                1.000000             0.000000                1.666667   \n",
      "13                2.666667             0.000000                0.666667   \n",
      "14                1.666667             0.000000                0.666667   \n",
      "15                1.000000             0.000000                2.666667   \n",
      "\n",
      "    away_team_red_cards  home_team_shots  away_team_shots  \\\n",
      "0              0.000000        11.000000        10.666667   \n",
      "1              0.000000        11.666667         8.666667   \n",
      "2              0.333333        13.666667         8.000000   \n",
      "3              0.000000        11.000000         8.000000   \n",
      "4              0.000000        15.666667        12.333333   \n",
      "5              0.000000        14.333333         8.666667   \n",
      "6              0.000000        10.666667        10.000000   \n",
      "7              0.000000         6.333333        12.000000   \n",
      "8              0.000000        11.666667        11.000000   \n",
      "9              0.000000        15.666667        14.333333   \n",
      "10             0.000000        10.666667        12.000000   \n",
      "11             0.000000         8.000000        11.000000   \n",
      "12             0.000000        11.000000        14.333333   \n",
      "13             0.000000        11.000000        12.000000   \n",
      "14             0.000000        14.333333        12.000000   \n",
      "15             0.000000        11.000000        11.000000   \n",
      "\n",
      "    home_team_shots_on_target  away_team_shots_on_target  \\\n",
      "0                    5.000000                   5.666667   \n",
      "1                    5.666667                   4.000000   \n",
      "2                    6.333333                   4.666667   \n",
      "3                    4.000000                   4.333333   \n",
      "4                    8.000000                   5.000000   \n",
      "5                    8.333333                   5.000000   \n",
      "6                    5.666667                   4.333333   \n",
      "7                    4.000000                   6.666667   \n",
      "8                    5.666667                   5.000000   \n",
      "9                    8.000000                   8.333333   \n",
      "10                   5.666667                   6.666667   \n",
      "11                   4.666667                   4.000000   \n",
      "12                   5.000000                   8.333333   \n",
      "13                   4.000000                   6.666667   \n",
      "14                   8.333333                   6.666667   \n",
      "15                   5.000000                   4.000000   \n",
      "\n",
      "    home_team_shots_off_target  away_team_shots_off_target  home_team_fouls  \\\n",
      "0                     6.000000                    5.000000        12.333333   \n",
      "1                     6.000000                    4.666667        11.000000   \n",
      "2                     7.333333                    3.333333         9.666667   \n",
      "3                     7.000000                    3.666667        17.666667   \n",
      "4                     7.666667                    7.333333         9.666667   \n",
      "5                     6.000000                    3.666667        14.333333   \n",
      "6                     5.000000                    5.666667        14.666667   \n",
      "7                     2.333333                    5.333333        13.333333   \n",
      "8                     6.000000                    6.000000        11.000000   \n",
      "9                     7.666667                    6.000000         9.666667   \n",
      "10                    5.000000                    5.333333        14.666667   \n",
      "11                    3.333333                    7.000000        17.000000   \n",
      "12                    6.000000                    6.000000        12.333333   \n",
      "13                    7.000000                    5.333333        17.666667   \n",
      "14                    6.000000                    5.333333        14.333333   \n",
      "15                    6.000000                    7.000000        12.333333   \n",
      "\n",
      "    away_team_fouls  home_team_possession  away_team_possession  \n",
      "0         13.666667             55.333333             67.000000  \n",
      "1         14.000000             54.333333             50.666667  \n",
      "2         17.000000             73.000000             43.333333  \n",
      "3         11.666667             53.000000             42.000000  \n",
      "4         12.333333             61.000000             53.000000  \n",
      "5          9.333333             54.666667             57.333333  \n",
      "6         13.666667             38.000000             57.000000  \n",
      "7         10.666667             51.000000             55.333333  \n",
      "8         12.333333             54.333333             55.333333  \n",
      "9         14.333333             61.000000             54.666667  \n",
      "10        10.666667             38.000000             55.333333  \n",
      "11        17.666667             43.333333             53.000000  \n",
      "12        14.333333             55.333333             54.666667  \n",
      "13        10.666667             53.000000             55.333333  \n",
      "14        10.666667             54.666667             55.333333  \n",
      "15        17.666667             55.333333             53.000000  \n",
      "[1. 1. 0. 0. 1. 1. 1. 1. 0. 0. 0. 1. 1. 1. 1. 1.]\n"
     ]
    }
   ],
   "source": [
    "# Define model, train and test\n",
    "from sklearn.linear_model import LogisticRegression\n",
    "\n",
    "features = training_data.drop([\"home_team_name\", \"away_team_name\", \"home_team_goal_count\" ,\"away_team_goal_count\", \"home_team_result\"  ], axis=1)\n",
    "targets = training_data['home_team_result'].values \n",
    "training_features , training_targets = features, targets\n",
    "\n",
    "testing_data = pd.read_csv(\"../Data/TestingData.csv\")\n",
    "target_from_old_csv  = pd.read_csv('../Data/Dataset.csv')[\"home_team_result\"].tail(16).values\n",
    "\n",
    "print(testing_data)\n",
    "\n",
    "\n",
    "test_features = testing_data.drop([\"home_team_name\", \"away_team_name\", \"home_team_goal_count\" ,\"away_team_goal_count\" ], axis=1)\n",
    "test_target = target_from_old_csv\n",
    "\n",
    "# print(test_target)\n",
    "\n",
    "# testing_features, testing_targets = test_features, test_target\n",
    "\n",
    "# model = LogisticRegression(max_iter = 1000)\n",
    "\n",
    "# model.fit(training_features, training_targets)\n",
    "\n",
    "# outcome_predict = model.predict(testing_features)\n",
    "\n",
    "# print(outcome_predict)\n",
    "\n",
    "# # print(model.predict(testing_features))\n",
    "# print(model.score(testing_features, testing_targets))\n",
    "\n",
    "\n"
   ]
  },
  {
   "cell_type": "code",
   "execution_count": 13,
   "metadata": {},
   "outputs": [
    {
     "name": "stdout",
     "output_type": "stream",
     "text": [
      "[[18  6]\n",
      " [ 7 16]]\n"
     ]
    }
   ],
   "source": [
    "# Generate graphs\n",
    "from sklearn.metrics import confusion_matrix \n",
    "\n",
    "cf_matrix = confusion_matrix(outcome_predict,test_target)\n",
    "\n",
    "print(cf_matrix)\n",
    "\n"
   ]
  },
  {
   "cell_type": "code",
   "execution_count": 12,
   "metadata": {},
   "outputs": [
    {
     "data": {
      "image/png": "[encoded data removed]",
      "text/plain": [
       "<Figure size 432x288 with 2 Axes>"
      ]
     },
     "metadata": {
      "needs_background": "light"
     },
     "output_type": "display_data"
    }
   ],
   "source": [
    "import seaborn as sns \n",
    "\n",
    "ax = sns.heatmap(cf_matrix, annot=True, cmap='Blues')\n",
    "\n",
    "ax.set_title('Prediction outcome confusion matrix')\n",
    "ax.set_xlabel('\\nPredicted Outcome')\n",
    "ax.set_ylabel('Actual Outcome');\n",
    "\n",
    "ax.xaxis.set_ticklabels(['Loss','Win'])\n",
    "ax.yaxis.set_ticklabels(['Loss','Win'])\n",
    "\n",
    "plt.show()\n",
    "# fig = plt.figure()\n",
    "# fig.savefig(\"anything.png\")"
   ]
  }
 ],
 "metadata": {
  "interpreter": {
   "hash": "aee8b7b246df8f9039afb4144a1f6fd8d2ca17a180786b69acc140d282b71a49"
  },
  "kernelspec": {
   "display_name": "Python 3.10.0 64-bit",
   "language": "python",
   "name": "python3"
  },
  "language_info": {
   "codemirror_mode": {
    "name": "ipython",
    "version": 3
   },
   "file_extension": ".py",
   "mimetype": "text/x-python",
   "name": "python",
   "nbconvert_exporter": "python",
   "pygments_lexer": "ipython3",
   "version": "3.10.0"
  },
  "orig_nbformat": 4
 },
 "nbformat": 4,
 "nbformat_minor": 2
}
