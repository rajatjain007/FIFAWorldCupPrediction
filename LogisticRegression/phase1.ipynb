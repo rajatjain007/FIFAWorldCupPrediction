{
 "cells": [
  {
   "cell_type": "code",
   "execution_count": 28,
   "metadata": {},
   "outputs": [],
   "source": [
    "# LOGISTIC REGRESSION IMPELEMENTATION\n",
    "# Importing dependencies\n",
    "import pandas as pd\n",
    "from sklearn.model_selection import train_test_split\n",
    "import matplotlib.pyplot as plt"
   ]
  },
  {
   "cell_type": "code",
   "execution_count": 23,
   "metadata": {},
   "outputs": [],
   "source": [
    "# Training and testing data preperation\n",
    "training_data = pd.read_csv(\"../Data/TrainingData.csv\")\n"
   ]
  },
  {
   "cell_type": "code",
   "execution_count": 29,
   "metadata": {},
   "outputs": [
    {
     "name": "stdout",
     "output_type": "stream",
     "text": [
      "[1. 1. 0. 0. 1. 1. 1. 1. 0. 0. 0. 1. 1. 1. 1. 1.]\n",
      "[0. 1. 1. 0. 1. 0. 1. 0. 1. 0. 0. 1. 0. 0. 0. 1.]\n",
      "0.5\n"
     ]
    }
   ],
   "source": [
    "# Define model, train and test\n",
    "from sklearn.linear_model import LogisticRegression\n",
    "\n",
    "targets = training_data['home_team_result'].values \n",
    "features = training_data.drop([\"home_team_name\", \"away_team_name\", \"home_team_goal_count\" ,\"away_team_goal_count\", \"winner_encoded\", \"home_team_result\"  ], axis=1)\n",
    "# targets = training_data['home_team_result'].values \n",
    "training_features , training_targets = features, targets\n",
    "\n",
    "testing_data = pd.read_csv(\"../Data/TestingData.csv\")\n",
    "test_target = testing_data['home_team_result'].values\n",
    "testing_data = testing_data.drop([\"home_team_result\"],axis=1)\n",
    "\n",
    "# target_from_old_csv  = pd.read_csv('../Data/Dataset.csv')[\"home_team_result\"].tail(16).values\n",
    "\n",
    "# # display(testing_data)\n",
    "\n",
    "\n",
    "test_features = testing_data.drop([\"home_team_name\", \"away_team_name\", \"home_team_goal_count\" ,\"away_team_goal_count\" ], axis=1)\n",
    "# test_target = target_from_old_csv\n",
    "\n",
    "print(test_target)\n",
    "\n",
    "testing_features, testing_targets = test_features, test_target\n",
    "\n",
    "model = LogisticRegression(max_iter = 1000)\n",
    "\n",
    "model.fit(training_features, training_targets)\n",
    "\n",
    "outcome_predict = model.predict(testing_features)\n",
    "\n",
    "\n",
    "\n",
    "print(model.predict(testing_features))\n",
    "print(model.score(testing_features, testing_targets))\n",
    "# print(model.score(training_features, training_targets))\n",
    "\n",
    "\n"
   ]
  },
  {
   "cell_type": "code",
   "execution_count": 25,
   "metadata": {},
   "outputs": [
    {
     "name": "stdout",
     "output_type": "stream",
     "text": [
      "[[3 6]\n",
      " [2 5]]\n"
     ]
    }
   ],
   "source": [
    "# Generate graphs\n",
    "from sklearn.metrics import confusion_matrix \n",
    "\n",
    "cf_matrix = confusion_matrix(outcome_predict,testing_targets)\n",
    "\n",
    "print(cf_matrix)\n",
    "\n"
   ]
  },
  {
   "cell_type": "code",
   "execution_count": 30,
   "metadata": {},
   "outputs": [
    {
     "data": {
      "image/png": "[encoded data removed]",
      "text/plain": [
       "<Figure size 432x288 with 2 Axes>"
      ]
     },
     "metadata": {
      "needs_background": "light"
     },
     "output_type": "display_data"
    }
   ],
   "source": [
    "import seaborn as sns \n",
    "\n",
    "ax = sns.heatmap(cf_matrix, annot=True, cmap='Blues')\n",
    "\n",
    "ax.set_title('Prediction outcome confusion matrix')\n",
    "ax.set_xlabel('\\nPredicted Outcome')\n",
    "ax.set_ylabel('Actual Outcome');\n",
    "\n",
    "ax.xaxis.set_ticklabels(['Loss','Win'])\n",
    "ax.yaxis.set_ticklabels(['Loss','Win'])\n",
    "\n",
    "plt.show()\n",
    "# fig = plt.figure()\n",
    "# fig.savefig(\"anything.png\")"
   ]
  }
 ],
 "metadata": {
  "interpreter": {
   "hash": "aee8b7b246df8f9039afb4144a1f6fd8d2ca17a180786b69acc140d282b71a49"
  },
  "kernelspec": {
   "display_name": "Python 3.10.0 64-bit",
   "language": "python",
   "name": "python3"
  },
  "language_info": {
   "codemirror_mode": {
    "name": "ipython",
    "version": 3
   },
   "file_extension": ".py",
   "mimetype": "text/x-python",
   "name": "python",
   "nbconvert_exporter": "python",
   "pygments_lexer": "ipython3",
   "version": "3.10.0"
  },
  "orig_nbformat": 4
 },
 "nbformat": 4,
 "nbformat_minor": 2
}
