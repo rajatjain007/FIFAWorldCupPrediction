{
 "cells": [
  {
   "cell_type": "code",
   "execution_count": 3,
   "metadata": {},
   "outputs": [],
   "source": [
    "# FEATURE EMBEDDING\n",
    "\n",
    "import pandas as pd\n",
    "\n"
   ]
  },
  {
   "cell_type": "code",
   "execution_count": 29,
   "metadata": {},
   "outputs": [
    {
     "name": "stdout",
     "output_type": "stream",
     "text": [
      "['home_team_corner_count', 'home_team_fouls', 'home_team_goal_count', 'home_team_possession', 'home_team_red_cards', 'home_team_shots', 'home_team_shots_off_target', 'home_team_shots_on_target', 'home_team_yellow_cards']\n",
      "['away_team_corner_count', 'away_team_fouls', 'away_team_goal_count', 'away_team_possession', 'away_team_red_cards', 'away_team_shots', 'away_team_shots_off_target', 'away_team_shots_on_target', 'away_team_yellow_cards']\n"
     ]
    }
   ],
   "source": [
    "class FeatureEmbedding():\n",
    "    def naive(self):\n",
    "        df = pd.read_csv(r'../Data/Dataset.csv')[0:47]\n",
    "        df = df.drop([\"home_team_name\",\"away_team_name\",\"winner_encoded\",\"home_team_result\"],axis=1)\n",
    "        allColumnNames = (sorted(df.columns.values))\n",
    "        awayColumnNames = allColumnNames[0:9]\n",
    "        homeColumnNames = allColumnNames[9:]\n",
    "        print(homeColumnNames)\n",
    "        print(awayColumnNames)\n",
    "    \n",
    "        \n",
    "        featureEmbedding = [k{}]\n",
    "        for teamEncoded in range(0,31):\n",
    "            for index,match in df.iterrows():\n",
    "                if(match.home_team_name==teamEncoded):\n",
    "                    featureEmbedding[teamEncoded] += match\n",
    "\n",
    "                elif(match.away_team_name==teamEncoded):\n",
    "                    featureEmbedding.append(match[8:])\n",
    "\n",
    "\n",
    "                     \n",
    "\n",
    "\n",
    "\n",
    "\n",
    "\n",
    "fe = FeatureEmbedding()\n",
    "fe.naive()"
   ]
  }
 ],
 "metadata": {
  "interpreter": {
   "hash": "aee8b7b246df8f9039afb4144a1f6fd8d2ca17a180786b69acc140d282b71a49"
  },
  "kernelspec": {
   "display_name": "Python 3.9.12 64-bit",
   "language": "python",
   "name": "python3"
  },
  "language_info": {
   "codemirror_mode": {
    "name": "ipython",
    "version": 3
   },
   "file_extension": ".py",
   "mimetype": "text/x-python",
   "name": "python",
   "nbconvert_exporter": "python",
   "pygments_lexer": "ipython3",
   "version": "3.9.12"
  },
  "orig_nbformat": 4
 },
 "nbformat": 4,
 "nbformat_minor": 2
}
