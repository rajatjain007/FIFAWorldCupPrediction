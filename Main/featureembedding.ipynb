{
 "cells": [
  {
   "cell_type": "code",
   "execution_count": 3,
   "metadata": {},
   "outputs": [],
   "source": [
    "# FEATURE EMBEDDING\n",
    "\n",
    "import pandas as pd\n",
    "import csv\n",
    "\n"
   ]
  },
  {
   "cell_type": "code",
   "execution_count": 80,
   "metadata": {},
   "outputs": [],
   "source": [
    "class FeatureEmbedding():\n",
    "    def naive(self):\n",
    "        df = pd.read_csv(r'../Data/Dataset.csv')[0:47]\n",
    "        df = df.drop([\"winner_encoded\",\"home_team_result\"],axis=1)\n",
    "        \n",
    "        featureEmbedding = [{\"team\":0,\"goals\":0,\"corners\":0,\"fouls\":0,\"possession\":0,\"redCards\":0,\"yellowCards\":0,\"shots\":0,\"shotsOnTarget\":0,\"shotsOffTarget\":0} for i in range(32)]\n",
    "        featureEmbeddingAttributes = [\"team\",\"goals\",\"corners\",\"fouls\",\"possession\",\"redCards\",\"yellowCards\",\"shots\",\"shotsOnTarget\",\"shotsOffTarget\"]\n",
    "        for teamEncoded in range(0,32):\n",
    "            for index,match in df.iterrows():\n",
    "                if(match.home_team_name==teamEncoded):\n",
    "                    currentMatchValues = {\"team\":teamEncoded,\"goals\":match.home_team_goal_count,\"corners\":match.home_team_corner_count,\"fouls\":match.home_team_fouls,\"possession\":match.home_team_possession,\"redCards\":match.home_team_red_cards,\"yellowCards\":match.home_team_yellow_cards,\"shots\":match.home_team_shots,\"shotsOnTarget\":match.home_team_shots_on_target,\"shotsOffTarget\":match.home_team_shots_off_target}\n",
    "                    \n",
    "                    oldMatchValues = featureEmbedding[teamEncoded]\n",
    "                         \n",
    "                    for attribute in featureEmbeddingAttributes:\n",
    "                        currentMatchValues[attribute] += oldMatchValues[attribute]\n",
    "                    featureEmbedding[teamEncoded] = currentMatchValues\n",
    "\n",
    "                elif(match.away_team_name==teamEncoded):\n",
    "                    currentMatchValues = {\"team\":teamEncoded,\"goals\":match.away_team_goal_count,\"corners\":match.away_team_corner_count,\"fouls\":match.away_team_fouls,\"possession\":match.away_team_possession,\"redCards\":match.away_team_red_cards,\"yellowCards\":match.away_team_yellow_cards,\"shots\":match.away_team_shots,\"shotsOnTarget\":match.away_team_shots_on_target,\"shotsOffTarget\":match.away_team_shots_off_target}\n",
    "                    \n",
    "                    oldMatchValues = featureEmbedding[teamEncoded]\n",
    "                   \n",
    "                    for attribute in featureEmbeddingAttributes:\n",
    "                        currentMatchValues[attribute] += oldMatchValues[attribute]\n",
    "                    featureEmbedding[teamEncoded] = currentMatchValues\n",
    "        #print(featureEmbedding)\n",
    "    \n",
    "        # Divide featureEmbedding by 3\n",
    "        for teamAttributes in featureEmbedding:\n",
    "            for attribute in teamAttributes:\n",
    "                teamAttributes[attribute] /= 3\n",
    "        \n",
    "        \n",
    "        dataFrame = pd.DataFrame.from_dict(featureEmbedding)\n",
    "        dataFrame.to_csv (r'../Data/TestingData.csv', index = False, header=True)\n",
    "\n",
    "\n",
    "       \n",
    "\n",
    "        \n",
    "\n",
    "                     \n",
    "\n",
    "\n",
    "\n",
    "\n",
    "\n",
    "fe = FeatureEmbedding()\n",
    "fe.naive()"
   ]
  }
 ],
 "metadata": {
  "interpreter": {
   "hash": "aee8b7b246df8f9039afb4144a1f6fd8d2ca17a180786b69acc140d282b71a49"
  },
  "kernelspec": {
   "display_name": "Python 3.9.12 64-bit",
   "language": "python",
   "name": "python3"
  },
  "language_info": {
   "codemirror_mode": {
    "name": "ipython",
    "version": 3
   },
   "file_extension": ".py",
   "mimetype": "text/x-python",
   "name": "python",
   "nbconvert_exporter": "python",
   "pygments_lexer": "ipython3",
   "version": "3.9.12"
  },
  "orig_nbformat": 4
 },
 "nbformat": 4,
 "nbformat_minor": 2
}
