{
 "cells": [
  {
   "cell_type": "code",
   "execution_count": 9,
   "metadata": {},
   "outputs": [
    {
     "name": "stdout",
     "output_type": "stream",
     "text": [
      "Dimensions of FIFA WC 2018: 64rows X 64columns\n"
     ]
    }
   ],
   "source": [
    "# DATA PREPROCESSING\n",
    "\n",
    "#Import necessary packages.\n",
    "import pandas as pd\n",
    "import matplotlib.pyplot as plt\n",
    "from sklearn.preprocessing import LabelEncoder\n",
    "\n",
    "#Import necessary data\n",
    "data2018 = pd.read_csv(r'./Data/FIFAWorldCup2018.csv')\n",
    "# data2014 = pd.read_csv(r'../Data/FIFAWorldCup2014.csv')\n",
    "# data2010 = pd.read_csv(r'../Data/FIFAWorldCup2010.csv')\n",
    "#data2006 = pd.read_csv(r'../Data/FIFAWorldCup2006.csv')\n",
    "\n",
    "#Stats about data sets\n",
    "print(\"Dimensions of FIFA WC 2018: {}rows X {}columns\".format(data2018.shape[0],data2018.shape[1]))\n",
    "# print(\"Dimensions of FIFA WC 2014: {}rows X {}columns\".format(data2014.shape[0],data2014.shape[1]))\n",
    "# print(\"Dimensions of FIFA WC 2010: {}rows X {}columns\".format(data2010.shape[0],data2010.shape[1]))\n",
    "# print(\"Dimensions of FIFA WC 2006: {}rows X {}columns\".format(data2006.shape[0],data2006.shape[1]))\n"
   ]
  },
  {
   "cell_type": "code",
   "execution_count": 10,
   "metadata": {},
   "outputs": [],
   "source": [
    "# DATA INTEGRATION\n",
    "# dataToConcat = [data2006,data2010,data2014,data2018]\n",
    "# trainingData = pd.concat([])\n"
   ]
  },
  {
   "cell_type": "code",
   "execution_count": 11,
   "metadata": {},
   "outputs": [
    {
     "name": "stdout",
     "output_type": "stream",
     "text": [
      "Dimensions of FIFA WC 2018 after dropping attributes: 64rows X 20columns\n"
     ]
    }
   ],
   "source": [
    "# DATA REDUCTION\n",
    "namesOfColumnsToBeDropped = [\"date_GMT\",\"status\",\"attendance\",\"referee\",\"stadium_name\", \"team_a_xg\", \"team_b_xg\", \"btts_percentage_pre_match\", \n",
    "\"over_15_percentage_pre_match\", \"over_25_percentage_pre_match\",\"over_35_percentage_pre_match\", \"over_45_percentage_pre_match\",\n",
    "\"over_15_HT_FHG_percentage_pre_match\", \"over_05_HT_FHG_percentage_pre_match\", \"over_15_2HG_percentage_pre_match\", \"over_05_2HG_percentage_pre_match\",\"timestamp\",\"Game Week\",\"home_team_goal_timings\",\"away_team_goal_timings\",'Pre-Match PPG (Home)', 'Pre-Match PPG (Away)', 'home_ppg', 'away_ppg','odds_ft_home_team_win',\n",
    " 'odds_ft_draw' ,'odds_ft_away_team_win' ,'odds_ft_over15', 'odds_ft_over25',\n",
    " 'odds_ft_over35', 'odds_ft_over45', 'odds_btts_yes', 'odds_btts_no','total_goal_count', 'total_goals_at_half_time', 'home_team_goal_count_half_time', 'away_team_goal_count_half_time','home_team_first_half_cards', 'home_team_second_half_cards', 'away_team_first_half_cards', 'away_team_second_half_cards','average_goals_per_match_pre_match', 'average_corners_per_match_pre_match', 'average_cards_per_match_pre_match']\n",
    "\n",
    "dataFrame = data2018.drop(namesOfColumnsToBeDropped,axis=1)\n",
    "\n",
    "print(\"Dimensions of FIFA WC 2018 after dropping attributes: {}rows X {}columns\".format(dataFrame.shape[0],dataFrame.shape[1]))\n",
    "\n",
    "# Uncomment next line to display data after dropping unnecessary columns\n",
    "#display(dataFrame)\n"
   ]
  },
  {
   "cell_type": "code",
   "execution_count": 21,
   "metadata": {},
   "outputs": [],
   "source": [
    "# Feature Engineering\n",
    "\n",
    "# One-Hot Encoding\n",
    "labelencoder = LabelEncoder()\n",
    "dataFrame[\"home_team_name\"] = labelencoder.fit_transform(dataFrame[\"home_team_name\"])\n",
    "dataFrame[\"away_team_name\"] = labelencoder.fit_transform(dataFrame[\"away_team_name\"])\n",
    "\n",
    "# Uncomment next line to display data after One-Hot Encoding\n",
    "#display(dataFrame)\n",
    "\n",
    "# Adding fields \"home_team_result\" and \"winner_encoded\"\n",
    "winnerEncoded = []\n",
    "homeTeamResult = []\n",
    "for index,match in dataFrame.iterrows():\n",
    "    # when home team wins\n",
    "    if(match[\"home_team_goal_count\"]>match[\"away_team_goal_count\"]):\n",
    "        winnerEncoded.append(match[\"home_team_name\"])\n",
    "        homeTeamResult.append(\"W\")\n",
    "\n",
    "    # when away team wins\n",
    "    if(match[\"home_team_goal_count\"]<match[\"away_team_goal_count\"]):\n",
    "        winnerEncoded.append(match[\"away_team_name\"])\n",
    "        homeTeamResult.append(\"L\")\n",
    "\n",
    "    # draws and tie breaker\n",
    "    if(match[\"home_team_goal_count\"]==match[\"away_team_goal_count\"]):\n",
    "        if((match[\"home_team_goal_count\"]/match[\"home_team_shots\"])>=(match[\"away_team_goal_count\"]/match[\"away_team_shots\"])):\n",
    "            winnerEncoded.append(match[\"home_team_name\"])\n",
    "            homeTeamResult.append(\"W\")\n",
    "              \n",
    "        if((match[\"home_team_goal_count\"]/match[\"home_team_shots\"])<(match[\"away_team_goal_count\"]/match[\"away_team_shots\"])):\n",
    "            winnerEncoded.append(match[\"away_team_name\"])\n",
    "            homeTeamResult.append(\"L\")\n",
    "\n",
    "dataFrame[\"winner_encoded\"] = winnerEncoded\n",
    "dataFrame[\"home_team_result\"] = homeTeamResult\n",
    "\n",
    "# Uncomment the next line to display dataframe after adding fields \"home_team_result\" and \"winner_encoded\"\n",
    "#display(dataFrame)\n"
   ]
  },
  {
   "cell_type": "code",
   "execution_count": null,
   "metadata": {},
   "outputs": [],
   "source": [
    "# Writeback to csv data file"
   ]
  }
 ],
 "metadata": {
  "interpreter": {
   "hash": "aee8b7b246df8f9039afb4144a1f6fd8d2ca17a180786b69acc140d282b71a49"
  },
  "kernelspec": {
   "display_name": "Python 3.9.12 64-bit",
   "language": "python",
   "name": "python3"
  },
  "language_info": {
   "codemirror_mode": {
    "name": "ipython",
    "version": 3
   },
   "file_extension": ".py",
   "mimetype": "text/x-python",
   "name": "python",
   "nbconvert_exporter": "python",
   "pygments_lexer": "ipython3",
   "version": "3.9.12"
  },
  "orig_nbformat": 4
 },
 "nbformat": 4,
 "nbformat_minor": 2
}
