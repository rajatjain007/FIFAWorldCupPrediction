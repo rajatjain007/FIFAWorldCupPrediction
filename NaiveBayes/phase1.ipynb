{
 "cells": [
  {
   "cell_type": "code",
   "execution_count": 38,
   "metadata": {},
   "outputs": [],
   "source": [
    "# NAIVE BAYES IMPELEMENTATION\n",
    "\n",
    "# Importing dependencies\n",
    "import pandas as pd\n",
    "from sklearn.model_selection import train_test_split\n",
    "from sklearn.naive_bayes import GaussianNB\n",
    "import matplotlib.pyplot as plt"
   ]
  },
  {
   "cell_type": "code",
   "execution_count": 39,
   "metadata": {},
   "outputs": [],
   "source": [
    "# Training and testing data preperation\n",
    "trainingData = pd.read_csv(\"../Data/TrainingData.csv\")\n",
    "testingData = pd.read_csv(\"../Data/TestingData.csv\")\n",
    "targetsTrain = trainingData[\"home_team_result\"]\n",
    "featuresTrain = trainingData.drop([\"home_team_result\",\"winner_encoded\"],axis=1)\n",
    "featuresTest = testingData.drop(\"home_team_result\",axis=1)\n",
    "targetsTest = testingData[\"home_team_result\"]\n"
   ]
  },
  {
   "cell_type": "code",
   "execution_count": 40,
   "metadata": {},
   "outputs": [
    {
     "name": "stdout",
     "output_type": "stream",
     "text": [
      "Training data: 48 rows x 22 columns \n",
      "Testing data: 16 rows x 21 columns\n",
      "Accuracy of Naive Bayes using Sci-Kit: 43.75%\n"
     ]
    }
   ],
   "source": [
    "# Define model, train and test\n",
    "model = GaussianNB()\n",
    "#Training model\n",
    "model.fit(featuresTrain,targetsTrain)\n",
    "print(\"Training data: {} rows x {} columns \".format(trainingData.shape[0],trainingData.shape[1]))\n",
    "print(\"Testing data: {} rows x {} columns\".format(testingData.shape[0],testingData.shape[1]))\n",
    "print(\"Accuracy of Naive Bayes using Sci-Kit: {}%\".format(model.score(featuresTest,targetsTest)*100))"
   ]
  },
  {
   "cell_type": "code",
   "execution_count": 41,
   "metadata": {},
   "outputs": [],
   "source": [
    "# Training and testing data preperation (With Large data)\n",
    "trainingData = pd.read_csv(\"../Data/LargeTrainingData.csv\")\n",
    "testingData = pd.read_csv(\"../Data/LargeTestingData.csv\")\n",
    "targetsTrain = trainingData[\"home_team_result\"]\n",
    "featuresTrain = trainingData.drop([\"home_team_result\",\"winner_encoded\"],axis=1)\n",
    "featuresTest = testingData.drop(\"home_team_result\",axis=1)\n",
    "targetsTest = testingData[\"home_team_result\"]"
   ]
  },
  {
   "cell_type": "code",
   "execution_count": 42,
   "metadata": {},
   "outputs": [
    {
     "name": "stdout",
     "output_type": "stream",
     "text": [
      "Training data: 176 rows x 22 columns \n",
      "Testing data: 16 rows x 21 columns\n",
      "Accuracy of Naive Bayes using Sci-Kit: 43.75%\n"
     ]
    }
   ],
   "source": [
    "# Define model, train and test\n",
    "model = GaussianNB()\n",
    "#Training model\n",
    "model.fit(featuresTrain,targetsTrain)\n",
    "print(\"Training data: {} rows x {} columns \".format(trainingData.shape[0],trainingData.shape[1]))\n",
    "print(\"Testing data: {} rows x {} columns\".format(testingData.shape[0],testingData.shape[1]))\n",
    "print(\"Accuracy of Naive Bayes using Sci-Kit: {}%\".format(model.score(featuresTest,targetsTest)*100))"
   ]
  },
  {
   "cell_type": "code",
   "execution_count": 43,
   "metadata": {},
   "outputs": [
    {
     "data": {
      "image/png": "[encoded data removed]",
      "text/plain": [
       "<Figure size 432x288 with 1 Axes>"
      ]
     },
     "metadata": {
      "needs_background": "light"
     },
     "output_type": "display_data"
    }
   ],
   "source": [
    "# Precision and Recall\n",
    "def precisionAndRecall(predictedValues):\n",
    "    actualValues = [1,1,0,0,1,1,1,1,0,0,0,1,1,1,1,1]\n",
    "    truePositives = 0\n",
    "    trueNegatives = 0\n",
    "    falsePositives = 0\n",
    "    falseNegatives = 0\n",
    "    precision = []\n",
    "    recall = []\n",
    "    accuracy = []\n",
    "    f1 = []\n",
    "\n",
    "    for index in range(len(predictedValues)):\n",
    "        if(predictedValues[index]==1 and actualValues[index]==1):\n",
    "            truePositives += 1\n",
    "            calculatedPrecision = 0\n",
    "            calculatedRecall = 0\n",
    "            if(truePositives+falseNegatives!=0):\n",
    "                calculatedRecall = truePositives/(truePositives+falseNegatives)\n",
    "                recall.append(calculatedRecall)\n",
    "            if(truePositives+falsePositives!=0):\n",
    "                calculatedPrecision = truePositives/(truePositives+falsePositives)\n",
    "                precision.append(calculatedPrecision)\n",
    "            if(truePositives+trueNegatives+falseNegatives+falsePositives!=0):\n",
    "                accuracy.append(truePositives/(truePositives+trueNegatives+falseNegatives+falsePositives))\n",
    "            if(calculatedRecall+calculatedPrecision!=0):\n",
    "                f1.append((2*calculatedPrecision*calculatedRecall)/(calculatedRecall+calculatedPrecision))\n",
    "            \n",
    "        \n",
    "        if(predictedValues[index]==1 and actualValues[index]==0):\n",
    "            falsePositives += 1\n",
    "            calculatedPrecision = 0\n",
    "            calculatedRecall = 0\n",
    "            if(truePositives+falseNegatives!=0):\n",
    "                calculatedRecall = truePositives/(truePositives+falseNegatives)\n",
    "                recall.append(calculatedRecall)\n",
    "            if(truePositives+falsePositives!=0):\n",
    "                calculatedPrecision = truePositives/(truePositives+falsePositives)\n",
    "                precision.append(calculatedPrecision)\n",
    "            if(truePositives+trueNegatives+falseNegatives+falsePositives!=0):\n",
    "                accuracy.append(truePositives/(truePositives+trueNegatives+falseNegatives+falsePositives))\n",
    "            if(calculatedRecall+calculatedPrecision!=0):\n",
    "                f1.append((2*calculatedPrecision*calculatedRecall)/(calculatedRecall+calculatedPrecision))\n",
    "        \n",
    "        if(predictedValues[index]==0 and actualValues[index]==0):\n",
    "            trueNegatives += 1\n",
    "            calculatedPrecision = 0\n",
    "            calculatedRecall = 0\n",
    "            if(truePositives+falseNegatives!=0):\n",
    "                calculatedRecall = truePositives/(truePositives+falseNegatives)\n",
    "                recall.append(calculatedRecall)\n",
    "            if(truePositives+falsePositives!=0):\n",
    "                calculatedPrecision = truePositives/(truePositives+falsePositives)\n",
    "                precision.append(calculatedPrecision)\n",
    "            if(truePositives+trueNegatives+falseNegatives+falsePositives!=0):\n",
    "                accuracy.append(truePositives/(truePositives+trueNegatives+falseNegatives+falsePositives))\n",
    "            if(calculatedRecall+calculatedPrecision!=0):\n",
    "                f1.append((2*calculatedPrecision*calculatedRecall)/(calculatedRecall+calculatedPrecision))\n",
    "\n",
    "        if(predictedValues[index]==0 and actualValues[index]==1):\n",
    "            falseNegatives += 1\n",
    "            calculatedPrecision = 0\n",
    "            calculatedRecall = 0\n",
    "            if(truePositives+falseNegatives!=0):\n",
    "                calculatedRecall = truePositives/(truePositives+falseNegatives)\n",
    "                recall.append(calculatedRecall)\n",
    "            if(truePositives+falsePositives!=0):\n",
    "                calculatedPrecision = truePositives/(truePositives+falsePositives)\n",
    "                precision.append(calculatedPrecision)\n",
    "            if(truePositives+trueNegatives+falseNegatives+falsePositives!=0):\n",
    "                accuracy.append(truePositives/(truePositives+trueNegatives+falseNegatives+falsePositives))\n",
    "            if(calculatedRecall+calculatedPrecision!=0):\n",
    "                f1.append((2*calculatedPrecision*calculatedRecall)/(calculatedRecall+calculatedPrecision))\n",
    "\n",
    "    return precision,recall,accuracy,f1\n",
    "\n",
    "precision, recall, accuracy, f1 = precisionAndRecall(model.predict(featuresTest))\n",
    "\n",
    "plt.title(\"Precision vs Recall vs Accuracy vs F1 Score (Sci-Kit)\")\n",
    "plt.xlabel(\"Number of test samples\")\n",
    "plt.ylabel(\"Values\")\n",
    "plt.plot(precision,color = \"red\", label = \"Precision\")\n",
    "plt.plot(recall,color = \"lime\", label = \"Recall\")\n",
    "plt.plot(accuracy,color = \"purple\", label = \"Accuracy\")\n",
    "plt.plot(f1,color = \"blue\", label = \"F1 Score\")\n",
    "\n",
    "plt.legend()\n",
    "plt.show()"
   ]
  }
 ],
 "metadata": {
  "interpreter": {
   "hash": "aee8b7b246df8f9039afb4144a1f6fd8d2ca17a180786b69acc140d282b71a49"
  },
  "kernelspec": {
   "display_name": "Python 3.9.12 64-bit",
   "language": "python",
   "name": "python3"
  },
  "language_info": {
   "codemirror_mode": {
    "name": "ipython",
    "version": 3
   },
   "file_extension": ".py",
   "mimetype": "text/x-python",
   "name": "python",
   "nbconvert_exporter": "python",
   "pygments_lexer": "ipython3",
   "version": "3.9.12"
  },
  "orig_nbformat": 4
 },
 "nbformat": 4,
 "nbformat_minor": 2
}
