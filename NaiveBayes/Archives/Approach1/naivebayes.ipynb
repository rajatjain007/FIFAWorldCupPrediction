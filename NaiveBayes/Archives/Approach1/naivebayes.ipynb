{
 "cells": [
  {
   "cell_type": "code",
   "execution_count": 3,
   "metadata": {},
   "outputs": [
    {
     "name": "stdout",
     "output_type": "stream",
     "text": [
      "['W' 'W' 'D' 'D' 'W' 'W' 'W' 'D' 'L' 'L' 'L' 'D' 'W' 'W' 'W' 'W']\n",
      "['W' 'L' 'W' 'L' 'W' 'W' 'W' 'L' 'L' 'L' 'L' 'L' 'L' 'L' 'W' 'W']\n"
     ]
    },
    {
     "data": {
      "text/plain": [
       "0.5625"
      ]
     },
     "execution_count": 3,
     "metadata": {},
     "output_type": "execute_result"
    }
   ],
   "source": [
    "# Naive Bayes implementation\n",
    "import pandas as pd\n",
    "from sklearn.model_selection import train_test_split\n",
    "from sklearn.naive_bayes import GaussianNB\n",
    "\n",
    "trainingData = pd.read_csv(\"../Data/DatasetAll.csv\")\n",
    "\n",
    "features = trainingData.drop([\"timestamp\",\"Game Week\",\"home_team_result\",\"home_team_name\",\"away_team_name\",\"home_team_goal_timings\",\"away_team_goal_timings\"],axis=1).values\n",
    "targets = trainingData[\"home_team_result\"].values\n",
    "\n",
    "featuresTrain, targetsTrain = features[0:240], targets[0:240]\n",
    "featuresTest, targetsTest = features[240:], targets[240:]\n",
    "\n",
    "#Define Gaussian Model\n",
    "model = GaussianNB()\n",
    "\n",
    "#Training model\n",
    "model.fit(featuresTrain,targetsTrain)\n",
    "\n",
    "#Predicted and actual values\n",
    "model.predict(featuresTest)\n",
    "print(targetsTest)\n",
    "print(model.predict(featuresTest))\n",
    "model.score(featuresTest,targetsTest)\n",
    "\n",
    "\n",
    "\n"
   ]
  }
 ],
 "metadata": {
  "interpreter": {
   "hash": "aee8b7b246df8f9039afb4144a1f6fd8d2ca17a180786b69acc140d282b71a49"
  },
  "kernelspec": {
   "display_name": "Python 3.9.12 64-bit",
   "language": "python",
   "name": "python3"
  },
  "language_info": {
   "codemirror_mode": {
    "name": "ipython",
    "version": 3
   },
   "file_extension": ".py",
   "mimetype": "text/x-python",
   "name": "python",
   "nbconvert_exporter": "python",
   "pygments_lexer": "ipython3",
   "version": "3.9.12"
  },
  "orig_nbformat": 4
 },
 "nbformat": 4,
 "nbformat_minor": 2
}
