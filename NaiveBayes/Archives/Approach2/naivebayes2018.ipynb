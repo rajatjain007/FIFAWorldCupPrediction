{
 "cells": [
  {
   "cell_type": "code",
   "execution_count": 1,
   "metadata": {},
   "outputs": [],
   "source": [
    "# Naive Bayes implementation only on 2018's data\n",
    "\n",
    "# Importing necessary dependencies\n",
    "import pandas as pd\n",
    "from sklearn.model_selection import train_test_split\n",
    "from sklearn.naive_bayes import GaussianNB\n",
    "from mixed_naive_bayes import MixedNB\n",
    "from sklearn.preprocessing import LabelEncoder"
   ]
  },
  {
   "cell_type": "code",
   "execution_count": 2,
   "metadata": {},
   "outputs": [
    {
     "name": "stdout",
     "output_type": "stream",
     "text": [
      "Dimensions of FIFA WC 2018: 64rows X 64columns\n",
      "Dimensions of FIFA WC 2018 after dropping attributes: 64rows X 20columns\n",
      "21\n",
      "12\n",
      "29\n",
      "1\n",
      "14\n",
      "13\n",
      "16\n",
      "7\n",
      "29\n",
      "22\n",
      "7\n",
      "4\n",
      "22\n"
     ]
    }
   ],
   "source": [
    "# DATA PREPROCESSING\n",
    "trainingData = pd.read_csv(\"../Data/FIFAWorldCup2018.csv\")\n",
    "print(\"Dimensions of FIFA WC 2018: {}rows X {}columns\".format(trainingData.shape[0],trainingData.shape[1]))\n",
    "\n",
    "# creating instance of labelencoder\n",
    "labelencoder = LabelEncoder()\n",
    "trainingData[\"home_team_name\"] = labelencoder.fit_transform(trainingData[\"home_team_name\"])\n",
    "trainingData[\"away_team_name\"] = labelencoder.fit_transform(trainingData[\"away_team_name\"])\n",
    "\n",
    "namesOfColumnsToBeDropped = [\"date_GMT\",\"status\",\"attendance\",\"referee\",\"stadium_name\", \"team_a_xg\", \"team_b_xg\", \"btts_percentage_pre_match\", \n",
    "\"over_15_percentage_pre_match\", \"over_25_percentage_pre_match\",\"over_35_percentage_pre_match\", \"over_45_percentage_pre_match\",\n",
    "\"over_15_HT_FHG_percentage_pre_match\", \"over_05_HT_FHG_percentage_pre_match\", \"over_15_2HG_percentage_pre_match\", \"over_05_2HG_percentage_pre_match\",\"timestamp\",\"Game Week\",\"home_team_goal_timings\",\"away_team_goal_timings\",'Pre-Match PPG (Home)', 'Pre-Match PPG (Away)', 'home_ppg', 'away_ppg','odds_ft_home_team_win',\n",
    " 'odds_ft_draw' ,'odds_ft_away_team_win' ,'odds_ft_over15', 'odds_ft_over25',\n",
    " 'odds_ft_over35', 'odds_ft_over45', 'odds_btts_yes', 'odds_btts_no','total_goal_count', 'total_goals_at_half_time', 'home_team_goal_count_half_time', 'away_team_goal_count_half_time','home_team_first_half_cards', 'home_team_second_half_cards', 'away_team_first_half_cards', 'away_team_second_half_cards','average_goals_per_match_pre_match', 'average_corners_per_match_pre_match', 'average_cards_per_match_pre_match']\n",
    "\n",
    "trainingData = trainingData.drop(namesOfColumnsToBeDropped,axis=1)\n",
    "\n",
    "print(\"Dimensions of FIFA WC 2018 after dropping attributes: {}rows X {}columns\".format(trainingData.shape[0],trainingData.shape[1]))\n",
    "\n",
    "winner = []\n",
    "\n",
    "#Generating prediction classes W,D,L where W = Win, D = Draw, L = Loss\n",
    "for index,match in trainingData.iterrows():\n",
    "    if(match[\"home_team_goal_count\"]>match[\"away_team_goal_count\"]):\n",
    "        #print(\"{} {}:{} {}\\t Home team won\".format(match[\"home_team_name\"],match[\"home_team_goal_count\"],match[\"away_team_goal_count\"],match[\"away_team_name\"]))\n",
    "        # Adding winner attribute to get result of team1\n",
    "        #winner.append(\"{}\".format(match[\"home_team_name\"]))\n",
    "        winner.append(match[\"home_team_name\"])\n",
    "    \n",
    "    if(match[\"home_team_goal_count\"]<match[\"away_team_goal_count\"]):\n",
    "        #print(\"{} {}:{} {}\\t Away team won\".format(match[\"home_team_name\"],match[\"home_team_goal_count\"],match[\"away_team_goal_count\"],match[\"away_team_name\"]))\n",
    "        # Adding winner attribute to get result of team1\n",
    "        #winner.append(\"{}\".format(match[\"away_team_name\"]))\n",
    "        winner.append(match[\"away_team_name\"])\n",
    "\n",
    "    if(match[\"home_team_goal_count\"]==match[\"away_team_goal_count\"]):\n",
    "        #print(\"{} {}:{} {}\\t Draw\".format(match[\"home_team_name\"],match[\"home_team_goal_count\"],match[\"away_team_goal_count\"],match[\"away_team_name\"]))\n",
    "        # Adding home_team_result attribute to get result of team1\n",
    "        if((match[\"home_team_goal_count\"]/match[\"home_team_shots\"])>=(match[\"away_team_goal_count\"]/match[\"away_team_shots\"])):\n",
    "            print(match[\"home_team_name\"])\n",
    "            winner.append(match[\"home_team_name\"])   \n",
    "        if((match[\"home_team_goal_count\"]/match[\"home_team_shots\"])<(match[\"away_team_goal_count\"]/match[\"away_team_shots\"])):\n",
    "            print(match[\"away_team_name\"])\n",
    "            winner.append(match[\"away_team_name\"])\n",
    "\n",
    "            \n",
    "#trainingData = trainingData.drop([\"home_team_name\",\"away_team_name\"],axis=1)\n",
    "\n",
    "trainingData[\"winner\"] = winner\n",
    "\n",
    "#Writing Dataset.csv\n",
    "trainingData.to_csv('../Data/Dataset2.csv',index=False)"
   ]
  },
  {
   "cell_type": "code",
   "execution_count": 74,
   "metadata": {},
   "outputs": [],
   "source": [
    "# TRAINING AND TESTING DATA PREPARATION\n",
    "targets = trainingData[\"winner\"]\n",
    "features = trainingData.drop(\"winner\",axis=1).values\n",
    "\n",
    "featuresTrain, targetsTrain = features[0:47], targets[0:47]\n",
    "featuresTest, targetsTest = features[47:], targets[47:]"
   ]
  },
  {
   "cell_type": "code",
   "execution_count": 81,
   "metadata": {},
   "outputs": [
    {
     "name": "stdout",
     "output_type": "stream",
     "text": [
      "[ 9  2  0  1  7  2  0  0  2  0  9  8  3  5  6  3 11 14 46 54]\n"
     ]
    },
    {
     "ename": "ValueError",
     "evalue": "Expected y to have classes [ 0  1  2  3  4  5  6  7  8  9 10 11 12 13 14 15 16 17 18 19 20 21 22 23\n 24 25 26 27] but got [ 0  1  2  3  4  6  7  9 10 11 12 13 14 15 16 17 19 20 21 22 23 24 25 26\n 27 28 29 31] instead. Encode your data using sklearn's LabelEncoder.",
     "output_type": "error",
     "traceback": [
      "\u001b[0;31m---------------------------------------------------------------------------\u001b[0m",
      "\u001b[0;31mValueError\u001b[0m                                Traceback (most recent call last)",
      "\u001b[1;32m/Users/enduser/Desktop/UCR/Spring22/CS235/FIFAWorldCupPrediction/Approach2/naivebayes2018.ipynb Cell 4'\u001b[0m in \u001b[0;36m<cell line: 6>\u001b[0;34m()\u001b[0m\n\u001b[1;32m      <a href='vscode-notebook-cell:/Users/enduser/Desktop/UCR/Spring22/CS235/FIFAWorldCupPrediction/Approach2/naivebayes2018.ipynb#ch0000003?line=3'>4</a>\u001b[0m model \u001b[39m=\u001b[39m MixedNB()\n\u001b[1;32m      <a href='vscode-notebook-cell:/Users/enduser/Desktop/UCR/Spring22/CS235/FIFAWorldCupPrediction/Approach2/naivebayes2018.ipynb#ch0000003?line=4'>5</a>\u001b[0m \u001b[39m#Training model\u001b[39;00m\n\u001b[0;32m----> <a href='vscode-notebook-cell:/Users/enduser/Desktop/UCR/Spring22/CS235/FIFAWorldCupPrediction/Approach2/naivebayes2018.ipynb#ch0000003?line=5'>6</a>\u001b[0m model\u001b[39m.\u001b[39;49mfit(featuresTrain,targetsTrain)\n\u001b[1;32m      <a href='vscode-notebook-cell:/Users/enduser/Desktop/UCR/Spring22/CS235/FIFAWorldCupPrediction/Approach2/naivebayes2018.ipynb#ch0000003?line=8'>9</a>\u001b[0m \u001b[39mprint\u001b[39m(labelencoder\u001b[39m.\u001b[39minverse_transform(model\u001b[39m.\u001b[39mpredict(featuresTest)))\n\u001b[1;32m     <a href='vscode-notebook-cell:/Users/enduser/Desktop/UCR/Spring22/CS235/FIFAWorldCupPrediction/Approach2/naivebayes2018.ipynb#ch0000003?line=9'>10</a>\u001b[0m model\u001b[39m.\u001b[39mscore(featuresTest,targetsTest)\n",
      "File \u001b[0;32m/usr/local/lib/python3.9/site-packages/mixed_naive_bayes/mixed_naive_bayes.py:133\u001b[0m, in \u001b[0;36mMixedNB.fit\u001b[0;34m(self, X, y)\u001b[0m\n\u001b[1;32m    <a href='file:///usr/local/lib/python3.9/site-packages/mixed_naive_bayes/mixed_naive_bayes.py?line=130'>131</a>\u001b[0m \u001b[39m# Validate inputs\u001b[39;00m\n\u001b[1;32m    <a href='file:///usr/local/lib/python3.9/site-packages/mixed_naive_bayes/mixed_naive_bayes.py?line=131'>132</a>\u001b[0m \u001b[39mself\u001b[39m\u001b[39m.\u001b[39malpha \u001b[39m=\u001b[39m _validate_inits(\u001b[39mself\u001b[39m\u001b[39m.\u001b[39malpha)\n\u001b[0;32m--> <a href='file:///usr/local/lib/python3.9/site-packages/mixed_naive_bayes/mixed_naive_bayes.py?line=132'>133</a>\u001b[0m X, y \u001b[39m=\u001b[39m _validate_training_data(\n\u001b[1;32m    <a href='file:///usr/local/lib/python3.9/site-packages/mixed_naive_bayes/mixed_naive_bayes.py?line=133'>134</a>\u001b[0m     X, y, \u001b[39mself\u001b[39;49m\u001b[39m.\u001b[39;49mcategorical_features, \u001b[39mself\u001b[39;49m\u001b[39m.\u001b[39;49mmax_categories)\n\u001b[1;32m    <a href='file:///usr/local/lib/python3.9/site-packages/mixed_naive_bayes/mixed_naive_bayes.py?line=135'>136</a>\u001b[0m \u001b[39m# From https://github.com/scikit-learn/scikit-learn/blob/1495f6924/sklearn/naive_bayes.py#L344\u001b[39;00m\n\u001b[1;32m    <a href='file:///usr/local/lib/python3.9/site-packages/mixed_naive_bayes/mixed_naive_bayes.py?line=136'>137</a>\u001b[0m \u001b[39m# If the ratio of data variance between dimensions is too small, it\u001b[39;00m\n\u001b[1;32m    <a href='file:///usr/local/lib/python3.9/site-packages/mixed_naive_bayes/mixed_naive_bayes.py?line=137'>138</a>\u001b[0m \u001b[39m# will cause numerical errors. To address this, we artificially\u001b[39;00m\n\u001b[1;32m    <a href='file:///usr/local/lib/python3.9/site-packages/mixed_naive_bayes/mixed_naive_bayes.py?line=138'>139</a>\u001b[0m \u001b[39m# boost the variance by epsilon, a small fraction of the standard\u001b[39;00m\n\u001b[1;32m    <a href='file:///usr/local/lib/python3.9/site-packages/mixed_naive_bayes/mixed_naive_bayes.py?line=139'>140</a>\u001b[0m \u001b[39m# deviation of the largest dimension.\u001b[39;00m\n\u001b[1;32m    <a href='file:///usr/local/lib/python3.9/site-packages/mixed_naive_bayes/mixed_naive_bayes.py?line=140'>141</a>\u001b[0m \u001b[39mself\u001b[39m\u001b[39m.\u001b[39mepsilon \u001b[39m=\u001b[39m \u001b[39mself\u001b[39m\u001b[39m.\u001b[39mvar_smoothing \u001b[39m*\u001b[39m np\u001b[39m.\u001b[39mvar(X, ddof\u001b[39m=\u001b[39m\u001b[39m1\u001b[39m, axis\u001b[39m=\u001b[39m\u001b[39m0\u001b[39m)\u001b[39m.\u001b[39mmax()\n",
      "File \u001b[0;32m/usr/local/lib/python3.9/site-packages/mixed_naive_bayes/mixed_naive_bayes.py:421\u001b[0m, in \u001b[0;36m_validate_training_data\u001b[0;34m(X_raw, y_raw, categorical_features, max_categories)\u001b[0m\n\u001b[1;32m    <a href='file:///usr/local/lib/python3.9/site-packages/mixed_naive_bayes/mixed_naive_bayes.py?line=416'>417</a>\u001b[0m     \u001b[39mraise\u001b[39;00m \u001b[39mValueError\u001b[39;00m(\n\u001b[1;32m    <a href='file:///usr/local/lib/python3.9/site-packages/mixed_naive_bayes/mixed_naive_bayes.py?line=417'>418</a>\u001b[0m         \u001b[39m\"\u001b[39m\u001b[39mFound only 1 class in y. There\u001b[39m\u001b[39m'\u001b[39m\u001b[39ms nothing to classify here!\u001b[39m\u001b[39m\"\u001b[39m)\n\u001b[1;32m    <a href='file:///usr/local/lib/python3.9/site-packages/mixed_naive_bayes/mixed_naive_bayes.py?line=419'>420</a>\u001b[0m \u001b[39mif\u001b[39;00m \u001b[39mnot\u001b[39;00m np\u001b[39m.\u001b[39marray_equal(y_classes, np\u001b[39m.\u001b[39marange(\u001b[39m0\u001b[39m, y_classes\u001b[39m.\u001b[39msize)):\n\u001b[0;32m--> <a href='file:///usr/local/lib/python3.9/site-packages/mixed_naive_bayes/mixed_naive_bayes.py?line=420'>421</a>\u001b[0m     \u001b[39mraise\u001b[39;00m \u001b[39mValueError\u001b[39;00m(\u001b[39mf\u001b[39m\u001b[39m\"\u001b[39m\u001b[39mExpected y to have classes \u001b[39m\u001b[39m{\u001b[39;00mnp\u001b[39m.\u001b[39marange(\u001b[39m0\u001b[39m, y_classes\u001b[39m.\u001b[39msize)\u001b[39m}\u001b[39;00m\u001b[39m \u001b[39m\u001b[39m\"\u001b[39m \u001b[39m+\u001b[39m\n\u001b[1;32m    <a href='file:///usr/local/lib/python3.9/site-packages/mixed_naive_bayes/mixed_naive_bayes.py?line=421'>422</a>\u001b[0m                      \u001b[39mf\u001b[39m\u001b[39m\"\u001b[39m\u001b[39mbut got \u001b[39m\u001b[39m{\u001b[39;00my_classes\u001b[39m}\u001b[39;00m\u001b[39m instead. \u001b[39m\u001b[39m\"\u001b[39m \u001b[39m+\u001b[39m\n\u001b[1;32m    <a href='file:///usr/local/lib/python3.9/site-packages/mixed_naive_bayes/mixed_naive_bayes.py?line=422'>423</a>\u001b[0m                      \u001b[39m\"\u001b[39m\u001b[39mEncode your data using sklearn\u001b[39m\u001b[39m'\u001b[39m\u001b[39ms LabelEncoder.\u001b[39m\u001b[39m\"\u001b[39m)\n\u001b[1;32m    <a href='file:///usr/local/lib/python3.9/site-packages/mixed_naive_bayes/mixed_naive_bayes.py?line=424'>425</a>\u001b[0m \u001b[39mif\u001b[39;00m categorical_features \u001b[39mis\u001b[39;00m \u001b[39mnot\u001b[39;00m \u001b[39mNone\u001b[39;00m:\n\u001b[1;32m    <a href='file:///usr/local/lib/python3.9/site-packages/mixed_naive_bayes/mixed_naive_bayes.py?line=425'>426</a>\u001b[0m     \u001b[39mif\u001b[39;00m categorical_features \u001b[39mis\u001b[39;00m \u001b[39m'\u001b[39m\u001b[39mall\u001b[39m\u001b[39m'\u001b[39m:\n",
      "\u001b[0;31mValueError\u001b[0m: Expected y to have classes [ 0  1  2  3  4  5  6  7  8  9 10 11 12 13 14 15 16 17 18 19 20 21 22 23\n 24 25 26 27] but got [ 0  1  2  3  4  6  7  9 10 11 12 13 14 15 16 17 19 20 21 22 23 24 25 26\n 27 28 29 31] instead. Encode your data using sklearn's LabelEncoder."
     ]
    }
   ],
   "source": [
    "# DEFINE GAUSSIAN MODEL, TRAIN AND TEST\n",
    "\n",
    "#model = GaussianNB()\n",
    "model = MixedNB()\n",
    "#Training model\n",
    "model.fit(featuresTrain,targetsTrain)\n",
    "\n",
    "\n",
    "print(labelencoder.inverse_transform(model.predict(featuresTest)))\n",
    "model.score(featuresTest,targetsTest)\n"
   ]
  }
 ],
 "metadata": {
  "interpreter": {
   "hash": "aee8b7b246df8f9039afb4144a1f6fd8d2ca17a180786b69acc140d282b71a49"
  },
  "kernelspec": {
   "display_name": "Python 3.9.12 64-bit",
   "language": "python",
   "name": "python3"
  },
  "language_info": {
   "codemirror_mode": {
    "name": "ipython",
    "version": 3
   },
   "file_extension": ".py",
   "mimetype": "text/x-python",
   "name": "python",
   "nbconvert_exporter": "python",
   "pygments_lexer": "ipython3",
   "version": "3.9.12"
  },
  "orig_nbformat": 4
 },
 "nbformat": 4,
 "nbformat_minor": 2
}
