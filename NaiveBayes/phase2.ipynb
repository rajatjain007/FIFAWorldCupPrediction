{
 "cells": [
  {
   "cell_type": "code",
   "execution_count": 1,
   "metadata": {},
   "outputs": [],
   "source": [
    "# Import dependencies (Working)\n",
    "import pandas as pd\n",
    "import math\n",
    "import matplotlib.pyplot as plt"
   ]
  },
  {
   "cell_type": "code",
   "execution_count": 2,
   "metadata": {},
   "outputs": [],
   "source": [
    "# Split the dataset by class values, returns a dictionary (Working)\n",
    "def separateByClass(dataset):\n",
    "\tseparated = {}\n",
    "\tfor i in range(len(dataset)):\n",
    "\t\tvector = dataset[i]\n",
    "\t\tif(vector[-1] not in separated):\n",
    "\t\t\tseparated[vector[-1]] = []\n",
    "\t\tseparated[vector[-1]].append(vector)\n",
    "\treturn separated"
   ]
  },
  {
   "cell_type": "code",
   "execution_count": 3,
   "metadata": {},
   "outputs": [],
   "source": [
    "# Calculate mean, standard deviation (Working)\n",
    "def mean(numericalValues):\n",
    "    return sum(numericalValues)/float(len(numericalValues))\n",
    "\n",
    "def standardDeviation(numericalValues):\n",
    "    average = mean(numericalValues)\n",
    "    variance = sum([pow(x-average,2) for x in numericalValues])/float(len(numericalValues)-1)\n",
    "    stdDev = math.sqrt(variance)\n",
    "    if stdDev == 0.0:\n",
    "        stdDev = 0.001\n",
    "    return stdDev   "
   ]
  },
  {
   "cell_type": "code",
   "execution_count": 4,
   "metadata": {},
   "outputs": [],
   "source": [
    "# Summarize (Working)\n",
    "def summarize(dataset):\n",
    "    summaries = [(mean(attribute),standardDeviation(attribute)) for attribute in zip(*dataset)]\n",
    "    del summaries[-1]\n",
    "    return summaries"
   ]
  },
  {
   "cell_type": "code",
   "execution_count": 5,
   "metadata": {},
   "outputs": [],
   "source": [
    "# Summarize by class (Working)\n",
    "def summarizeByClass(dataset):\n",
    "    separated = separateByClass(dataset)\n",
    "    summaries = dict()\n",
    "    for classValue, instances in separated.items():\n",
    "        summaries[classValue] = summarize(instances)\n",
    "\n",
    "    return summaries"
   ]
  },
  {
   "cell_type": "code",
   "execution_count": 6,
   "metadata": {},
   "outputs": [],
   "source": [
    "# Calculating probability (Working)\n",
    "def calculateProbability(x,mean,standardDeviation):\n",
    "    exponent = math.exp(-(math.pow(x-mean,2)/(2*math.pow(standardDeviation,2))))\n",
    "    probability = (1/(math.sqrt(2*math.pi)*standardDeviation))*exponent\n",
    "    return probability"
   ]
  },
  {
   "cell_type": "code",
   "execution_count": 7,
   "metadata": {},
   "outputs": [],
   "source": [
    "# Calculate class probability (Working)\n",
    "def calculateClassProbabilities(summaries,inputVector):\n",
    "    probabilities = dict()\n",
    "    for classValue, classSummaries in summaries.items():\n",
    "        probabilities[classValue] = 1\n",
    "        for i in range(len(classSummaries)):\n",
    "            mean, standardDeviation = classSummaries[i]\n",
    "            x = inputVector[i]\n",
    "            probabilities[classValue] *= calculateProbability(x,mean,standardDeviation)\n",
    "    return probabilities "
   ]
  },
  {
   "cell_type": "code",
   "execution_count": 8,
   "metadata": {},
   "outputs": [],
   "source": [
    "# Predict (Working)\n",
    "def predict(summaries,inputVector):\n",
    "    probabilities = calculateClassProbabilities(summaries,inputVector)\n",
    "    bestLabel, bestProbability = None, -1\n",
    "    for classValue, probability in probabilities.items():\n",
    "        if bestLabel is None or probability > bestProbability:\n",
    "            bestProbability = probability\n",
    "            bestLabel = classValue\n",
    "    return bestLabel"
   ]
  },
  {
   "cell_type": "code",
   "execution_count": 9,
   "metadata": {},
   "outputs": [],
   "source": [
    "# Get all predictions (Working)\n",
    "def getPredictions(summaries,testingData):\n",
    "    predictions = []\n",
    "    for i in range(len(testingData)):\n",
    "        result = predict(summaries,testingData[i])\n",
    "        predictions.append(result)\n",
    "    return predictions"
   ]
  },
  {
   "cell_type": "code",
   "execution_count": 10,
   "metadata": {},
   "outputs": [],
   "source": [
    "# Calculate accuracy (Working)\n",
    "def calculateAccuracy(testingData,predictions):\n",
    "    correct = 0\n",
    "    results = [1,1,0,0,1,1,1,1,0,0,0,1,1,1,1,1]\n",
    "    for i in range(len(results)):\n",
    "        if results[i] == predictions[i]:\n",
    "            correct += 1\n",
    "    return correct/len(results)*100"
   ]
  },
  {
   "cell_type": "code",
   "execution_count": 11,
   "metadata": {},
   "outputs": [
    {
     "name": "stdout",
     "output_type": "stream",
     "text": [
      "Training data: 48 rows x 22 columns \n",
      "Testing data: 16 rows x 21 columns\n",
      "Accuracy of Naive Bayes: 43.75%\n"
     ]
    }
   ],
   "source": [
    "# Main script to call functions\n",
    "trainingData = pd.read_csv(\"../Data/TrainingData.csv\").values\n",
    "testingData = pd.read_csv(\"../Data/TestingData.csv\").values\n",
    "summaries = summarizeByClass(trainingData)\n",
    "predictions = getPredictions(summaries,testingData)\n",
    "accuracy = calculateAccuracy(testingData,predictions)\n",
    "print(\"Training data: {} rows x {} columns \".format(trainingData.shape[0],trainingData.shape[1]))\n",
    "print(\"Testing data: {} rows x {} columns\".format(testingData.shape[0],testingData.shape[1]))\n",
    "print(\"Accuracy of Naive Bayes: {}%\".format(accuracy))"
   ]
  },
  {
   "cell_type": "code",
   "execution_count": 12,
   "metadata": {},
   "outputs": [
    {
     "data": {
      "image/png": "[encoded data removed]",
      "text/plain": [
       "<Figure size 432x288 with 1 Axes>"
      ]
     },
     "metadata": {
      "needs_background": "light"
     },
     "output_type": "display_data"
    },
    {
     "name": "stdout",
     "output_type": "stream",
     "text": [
      "Evaulation Metrics\n",
      "Accuracy: 43.75%\n",
      "Precision: 1.00\n",
      "Recall: 0.18\n",
      "F1 Score: 0.31\n"
     ]
    }
   ],
   "source": [
    "# Precision and Recall\n",
    "def precisionAndRecall(predictedValues):\n",
    "    actualValues = [1,1,0,0,1,1,1,1,0,0,0,1,1,1,1,1]\n",
    "    truePositives = 0\n",
    "    trueNegatives = 0\n",
    "    falsePositives = 0\n",
    "    falseNegatives = 0\n",
    "    precision = []\n",
    "    recall = []\n",
    "    accuracy = []\n",
    "    f1 = []\n",
    "\n",
    "    for index in range(len(predictedValues)):\n",
    "        if(predictedValues[index]==1 and actualValues[index]==1):\n",
    "            truePositives += 1\n",
    "            calculatedPrecision = 0\n",
    "            calculatedRecall = 0\n",
    "            if(truePositives+falseNegatives!=0):\n",
    "                calculatedRecall = truePositives/(truePositives+falseNegatives)\n",
    "                recall.append(calculatedRecall)\n",
    "            if(truePositives+falsePositives!=0):\n",
    "                calculatedPrecision = truePositives/(truePositives+falsePositives)\n",
    "                precision.append(calculatedPrecision)\n",
    "            if(truePositives+trueNegatives+falseNegatives+falsePositives!=0):\n",
    "                accuracy.append((truePositives+trueNegatives)/(truePositives+trueNegatives+falseNegatives+falsePositives))\n",
    "            if(calculatedRecall+calculatedPrecision!=0):\n",
    "                f1.append((2*calculatedPrecision*calculatedRecall)/(calculatedRecall+calculatedPrecision))\n",
    "            \n",
    "        \n",
    "        if(predictedValues[index]==1 and actualValues[index]==0):\n",
    "            falsePositives += 1\n",
    "            calculatedPrecision = 0\n",
    "            calculatedRecall = 0\n",
    "            if(truePositives+falseNegatives!=0):\n",
    "                calculatedRecall = truePositives/(truePositives+falseNegatives)\n",
    "                recall.append(calculatedRecall)\n",
    "            if(truePositives+falsePositives!=0):\n",
    "                calculatedPrecision = truePositives/(truePositives+falsePositives)\n",
    "                precision.append(calculatedPrecision)\n",
    "            if(truePositives+trueNegatives+falseNegatives+falsePositives!=0):\n",
    "                accuracy.append((truePositives+trueNegatives)/(truePositives+trueNegatives+falseNegatives+falsePositives))\n",
    "            if(calculatedRecall+calculatedPrecision!=0):\n",
    "                f1.append((2*calculatedPrecision*calculatedRecall)/(calculatedRecall+calculatedPrecision))\n",
    "        \n",
    "        if(predictedValues[index]==0 and actualValues[index]==0):\n",
    "            trueNegatives += 1\n",
    "            calculatedPrecision = 0\n",
    "            calculatedRecall = 0\n",
    "            if(truePositives+falseNegatives!=0):\n",
    "                calculatedRecall = truePositives/(truePositives+falseNegatives)\n",
    "                recall.append(calculatedRecall)\n",
    "            if(truePositives+falsePositives!=0):\n",
    "                calculatedPrecision = truePositives/(truePositives+falsePositives)\n",
    "                precision.append(calculatedPrecision)\n",
    "            if(truePositives+trueNegatives+falseNegatives+falsePositives!=0):\n",
    "                accuracy.append((truePositives+trueNegatives)/(truePositives+trueNegatives+falseNegatives+falsePositives))\n",
    "            if(calculatedRecall+calculatedPrecision!=0):\n",
    "                f1.append((2*calculatedPrecision*calculatedRecall)/(calculatedRecall+calculatedPrecision))\n",
    "\n",
    "        if(predictedValues[index]==0 and actualValues[index]==1):\n",
    "            falseNegatives += 1\n",
    "            calculatedPrecision = 0\n",
    "            calculatedRecall = 0\n",
    "            if(truePositives+falseNegatives!=0):\n",
    "                calculatedRecall = truePositives/(truePositives+falseNegatives)\n",
    "                recall.append(calculatedRecall)\n",
    "            if(truePositives+falsePositives!=0):\n",
    "                calculatedPrecision = truePositives/(truePositives+falsePositives)\n",
    "                precision.append(calculatedPrecision)\n",
    "            if(truePositives+trueNegatives+falseNegatives+falsePositives!=0):\n",
    "                accuracy.append((truePositives+trueNegatives)/(truePositives+trueNegatives+falseNegatives+falsePositives))\n",
    "            if(calculatedRecall+calculatedPrecision!=0):\n",
    "                f1.append((2*calculatedPrecision*calculatedRecall)/(calculatedRecall+calculatedPrecision))\n",
    "\n",
    "    return precision,recall,accuracy,f1\n",
    "\n",
    "precision, recall, accuracy, f1 = precisionAndRecall(predictions)\n",
    "\n",
    "plt.title(\"Precision vs Recall vs Accuracy vs F1 Score (Our implementation NB)\")\n",
    "plt.xlabel(\"Number of test samples\")\n",
    "plt.ylabel(\"Values\")\n",
    "plt.plot(precision,color = \"red\", label = \"Precision\")\n",
    "plt.plot(recall,color = \"lime\", label = \"Recall\")\n",
    "plt.plot(accuracy,color = \"purple\", label = \"Accuracy\")\n",
    "plt.plot(f1,color = \"blue\", label = \"F1 Score\")\n",
    "\n",
    "plt.legend()\n",
    "plt.show()\n",
    "\n",
    "print(\"Evaulation Metrics\")\n",
    "print(\"Accuracy: {:.2f}%\".format(accuracy[-1]*100))\n",
    "print(\"Precision: {:.2f}\".format(precision[-1]))\n",
    "print(\"Recall: {:.2f}\".format(recall[-1]))\n",
    "print(\"F1 Score: {:.2f}\".format(f1[-1]))"
   ]
  },
  {
   "cell_type": "code",
   "execution_count": 13,
   "metadata": {},
   "outputs": [
    {
     "name": "stdout",
     "output_type": "stream",
     "text": [
      "Training data: 176 rows x 22 columns \n",
      "Testing data: 16 rows x 21 columns\n",
      "Accuracy of Naive Bayes: 43.75%\n"
     ]
    }
   ],
   "source": [
    "# Main script to call functions (With Large Dataset)\n",
    "trainingData = pd.read_csv(\"../Data/LargeTrainingData.csv\").values\n",
    "testingData = pd.read_csv(\"../Data/LargeTestingData.csv\").values\n",
    "summaries = summarizeByClass(trainingData)\n",
    "predictions = getPredictions(summaries,testingData)\n",
    "accuracy = calculateAccuracy(testingData,predictions)\n",
    "print(\"Training data: {} rows x {} columns \".format(trainingData.shape[0],trainingData.shape[1]))\n",
    "print(\"Testing data: {} rows x {} columns\".format(testingData.shape[0],testingData.shape[1]))\n",
    "print(\"Accuracy of Naive Bayes: {}%\".format(accuracy))"
   ]
  },
  {
   "cell_type": "code",
   "execution_count": 14,
   "metadata": {},
   "outputs": [
    {
     "data": {
      "image/png": "[encoded data removed]",
      "text/plain": [
       "<Figure size 432x288 with 1 Axes>"
      ]
     },
     "metadata": {
      "needs_background": "light"
     },
     "output_type": "display_data"
    },
    {
     "name": "stdout",
     "output_type": "stream",
     "text": [
      "Evaulation Metrics\n",
      "Accuracy: 43.75%\n",
      "Precision: 0.62\n",
      "Recall: 0.45\n",
      "F1 Score: 0.53\n"
     ]
    }
   ],
   "source": [
    "# Precision and Recall\n",
    "def precisionAndRecall(predictedValues):\n",
    "    actualValues = [1,1,0,0,1,1,1,1,0,0,0,1,1,1,1,1]\n",
    "    truePositives = 0\n",
    "    trueNegatives = 0\n",
    "    falsePositives = 0\n",
    "    falseNegatives = 0\n",
    "    precision = []\n",
    "    recall = []\n",
    "    accuracy = []\n",
    "    f1 = []\n",
    "\n",
    "    for index in range(len(predictedValues)):\n",
    "        if(predictedValues[index]==1 and actualValues[index]==1):\n",
    "            truePositives += 1\n",
    "            calculatedPrecision = 0\n",
    "            calculatedRecall = 0\n",
    "            if(truePositives+falseNegatives!=0):\n",
    "                calculatedRecall = truePositives/(truePositives+falseNegatives)\n",
    "                recall.append(calculatedRecall)\n",
    "            if(truePositives+falsePositives!=0):\n",
    "                calculatedPrecision = truePositives/(truePositives+falsePositives)\n",
    "                precision.append(calculatedPrecision)\n",
    "            if(truePositives+trueNegatives+falseNegatives+falsePositives!=0):\n",
    "                accuracy.append((truePositives+trueNegatives)/(truePositives+trueNegatives+falseNegatives+falsePositives))\n",
    "            if(calculatedRecall+calculatedPrecision!=0):\n",
    "                f1.append((2*calculatedPrecision*calculatedRecall)/(calculatedRecall+calculatedPrecision))\n",
    "            \n",
    "        \n",
    "        if(predictedValues[index]==1 and actualValues[index]==0):\n",
    "            falsePositives += 1\n",
    "            calculatedPrecision = 0\n",
    "            calculatedRecall = 0\n",
    "            if(truePositives+falseNegatives!=0):\n",
    "                calculatedRecall = truePositives/(truePositives+falseNegatives)\n",
    "                recall.append(calculatedRecall)\n",
    "            if(truePositives+falsePositives!=0):\n",
    "                calculatedPrecision = truePositives/(truePositives+falsePositives)\n",
    "                precision.append(calculatedPrecision)\n",
    "            if(truePositives+trueNegatives+falseNegatives+falsePositives!=0):\n",
    "                accuracy.append((truePositives+trueNegatives)/(truePositives+trueNegatives+falseNegatives+falsePositives))\n",
    "            if(calculatedRecall+calculatedPrecision!=0):\n",
    "                f1.append((2*calculatedPrecision*calculatedRecall)/(calculatedRecall+calculatedPrecision))\n",
    "        \n",
    "        if(predictedValues[index]==0 and actualValues[index]==0):\n",
    "            trueNegatives += 1\n",
    "            calculatedPrecision = 0\n",
    "            calculatedRecall = 0\n",
    "            if(truePositives+falseNegatives!=0):\n",
    "                calculatedRecall = truePositives/(truePositives+falseNegatives)\n",
    "                recall.append(calculatedRecall)\n",
    "            if(truePositives+falsePositives!=0):\n",
    "                calculatedPrecision = truePositives/(truePositives+falsePositives)\n",
    "                precision.append(calculatedPrecision)\n",
    "            if(truePositives+trueNegatives+falseNegatives+falsePositives!=0):\n",
    "                accuracy.append((truePositives+trueNegatives)/(truePositives+trueNegatives+falseNegatives+falsePositives))\n",
    "            if(calculatedRecall+calculatedPrecision!=0):\n",
    "                f1.append((2*calculatedPrecision*calculatedRecall)/(calculatedRecall+calculatedPrecision))\n",
    "\n",
    "        if(predictedValues[index]==0 and actualValues[index]==1):\n",
    "            falseNegatives += 1\n",
    "            calculatedPrecision = 0\n",
    "            calculatedRecall = 0\n",
    "            if(truePositives+falseNegatives!=0):\n",
    "                calculatedRecall = truePositives/(truePositives+falseNegatives)\n",
    "                recall.append(calculatedRecall)\n",
    "            if(truePositives+falsePositives!=0):\n",
    "                calculatedPrecision = truePositives/(truePositives+falsePositives)\n",
    "                precision.append(calculatedPrecision)\n",
    "            if(truePositives+trueNegatives+falseNegatives+falsePositives!=0):\n",
    "                accuracy.append((truePositives+trueNegatives)/(truePositives+trueNegatives+falseNegatives+falsePositives))\n",
    "            if(calculatedRecall+calculatedPrecision!=0):\n",
    "                f1.append((2*calculatedPrecision*calculatedRecall)/(calculatedRecall+calculatedPrecision))\n",
    "\n",
    "    return precision,recall,accuracy,f1\n",
    "\n",
    "precision, recall, accuracy, f1 = precisionAndRecall(predictions)\n",
    "\n",
    "plt.title(\"Precision vs Recall vs Accuracy vs F1 Score (Our implementation NB)\")\n",
    "plt.xlabel(\"Number of test samples\")\n",
    "plt.ylabel(\"Values\")\n",
    "plt.plot(precision,color = \"red\", label = \"Precision\")\n",
    "plt.plot(recall,color = \"lime\", label = \"Recall\")\n",
    "plt.plot(accuracy,color = \"purple\", label = \"Accuracy\")\n",
    "plt.plot(f1,color = \"blue\", label = \"F1 Score\")\n",
    "\n",
    "plt.legend()\n",
    "plt.show()\n",
    "\n",
    "print(\"Evaulation Metrics\")\n",
    "print(\"Accuracy: {:.2f}%\".format(accuracy[-1]*100))\n",
    "print(\"Precision: {:.2f}\".format(precision[-1]))\n",
    "print(\"Recall: {:.2f}\".format(recall[-1]))\n",
    "print(\"F1 Score: {:.2f}\".format(f1[-1]))"
   ]
  }
 ],
 "metadata": {
  "interpreter": {
   "hash": "aee8b7b246df8f9039afb4144a1f6fd8d2ca17a180786b69acc140d282b71a49"
  },
  "kernelspec": {
   "display_name": "Python 3.9.12 64-bit",
   "language": "python",
   "name": "python3"
  },
  "language_info": {
   "codemirror_mode": {
    "name": "ipython",
    "version": 3
   },
   "file_extension": ".py",
   "mimetype": "text/x-python",
   "name": "python",
   "nbconvert_exporter": "python",
   "pygments_lexer": "ipython3",
   "version": "3.9.12"
  },
  "orig_nbformat": 4
 },
 "nbformat": 4,
 "nbformat_minor": 2
}
