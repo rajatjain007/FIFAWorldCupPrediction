{
 "cells": [
  {
   "cell_type": "code",
   "execution_count": 65,
   "metadata": {},
   "outputs": [],
   "source": [
    "# Import dependencies (Working)\n",
    "import pandas as pd\n",
    "import math\n",
    "import matplotlib.pyplot as plt"
   ]
  },
  {
   "cell_type": "code",
   "execution_count": 66,
   "metadata": {},
   "outputs": [],
   "source": [
    "# Split the dataset by class values, returns a dictionary (Working)\n",
    "def separateByClass(dataset):\n",
    "\tseparated = {}\n",
    "\tfor i in range(len(dataset)):\n",
    "\t\tvector = dataset[i]\n",
    "\t\tif(vector[-1] not in separated):\n",
    "\t\t\tseparated[vector[-1]] = []\n",
    "\t\tseparated[vector[-1]].append(vector)\n",
    "\treturn separated\n",
    "\n",
    "#separateByClass(pd.read_csv(\"../Data/TrainingData.csv\").values)"
   ]
  },
  {
   "cell_type": "code",
   "execution_count": 67,
   "metadata": {},
   "outputs": [],
   "source": [
    "# Calculate mean, standard deviation (Working)\n",
    "def mean(numericalValues):\n",
    "    return sum(numericalValues)/float(len(numericalValues))\n",
    "\n",
    "def standardDeviation(numericalValues):\n",
    "    average = mean(numericalValues)\n",
    "    variance = sum([pow(x-average,2) for x in numericalValues])/float(len(numericalValues)-1)\n",
    "    stdDev = math.sqrt(variance)\n",
    "    if stdDev == 0.0:\n",
    "        stdDev = 0.001\n",
    "    return stdDev\n",
    "    "
   ]
  },
  {
   "cell_type": "code",
   "execution_count": 68,
   "metadata": {},
   "outputs": [],
   "source": [
    "# Summarize (Working)\n",
    "def summarize(dataset):\n",
    "    summaries = [(mean(attribute),standardDeviation(attribute)) for attribute in zip(*dataset)]\n",
    "    del summaries[-1]\n",
    "    return summaries\n",
    "\n",
    "#summarize(pd.read_csv(\"../Data/TrainingData.csv\").values)"
   ]
  },
  {
   "cell_type": "code",
   "execution_count": 69,
   "metadata": {},
   "outputs": [],
   "source": [
    "# Summarize by class (Working)\n",
    "def summarizeByClass(dataset):\n",
    "    separated = separateByClass(dataset)\n",
    "    summaries = dict()\n",
    "    for classValue, instances in separated.items():\n",
    "        summaries[classValue] = summarize(instances)\n",
    "\n",
    "    return summaries\n",
    "\n",
    "#summarizeByClass(pd.read_csv(\"../Data/TrainingData.csv\").values)"
   ]
  },
  {
   "cell_type": "code",
   "execution_count": 70,
   "metadata": {},
   "outputs": [],
   "source": [
    "# Calculating probability (Working)\n",
    "def calculateProbability(x,mean,standardDeviation):\n",
    "    exponent = math.exp(-(math.pow(x-mean,2)/(2*math.pow(standardDeviation,2))))\n",
    "    probability = (1/(math.sqrt(2*math.pi)*standardDeviation))*exponent\n",
    "    return probability\n"
   ]
  },
  {
   "cell_type": "code",
   "execution_count": 71,
   "metadata": {},
   "outputs": [],
   "source": [
    "# Calculate class probability (Working)\n",
    "def calculateClassProbabilities(summaries,inputVector):\n",
    "    probabilities = dict()\n",
    "    for classValue, classSummaries in summaries.items():\n",
    "        probabilities[classValue] = 1\n",
    "        for i in range(len(classSummaries)):\n",
    "            mean, standardDeviation = classSummaries[i]\n",
    "            x = inputVector[i]\n",
    "            probabilities[classValue] *= calculateProbability(x,mean,standardDeviation)\n",
    "    return probabilities "
   ]
  },
  {
   "cell_type": "code",
   "execution_count": 72,
   "metadata": {},
   "outputs": [],
   "source": [
    "# Predict (Working)\n",
    "def predict(summaries,inputVector):\n",
    "    probabilities = calculateClassProbabilities(summaries,inputVector)\n",
    "    bestLabel, bestProbability = None, -1\n",
    "    for classValue, probability in probabilities.items():\n",
    "        if bestLabel is None or probability > bestProbability:\n",
    "            bestProbability = probability\n",
    "            bestLabel = classValue\n",
    "    return bestLabel\n"
   ]
  },
  {
   "cell_type": "code",
   "execution_count": 73,
   "metadata": {},
   "outputs": [],
   "source": [
    "# Get all predictions (Working)\n",
    "def getPredictions(summaries,testingData):\n",
    "    predictions = []\n",
    "    for i in range(len(testingData)):\n",
    "        result = predict(summaries,testingData[i])\n",
    "        predictions.append(result)\n",
    "    return predictions"
   ]
  },
  {
   "cell_type": "code",
   "execution_count": 74,
   "metadata": {},
   "outputs": [],
   "source": [
    "# Calculate accuracy (Working)\n",
    "def calculateAccuracy(testingData,predictions):\n",
    "    correct = 0\n",
    "    results = [1,1,0,0,1,1,1,1,0,0,0,1,1,1,1,1]\n",
    "    for i in range(len(results)):\n",
    "        if results[i] == predictions[i]:\n",
    "            correct += 1\n",
    "    return correct/len(results)*100"
   ]
  },
  {
   "cell_type": "code",
   "execution_count": 75,
   "metadata": {},
   "outputs": [
    {
     "name": "stdout",
     "output_type": "stream",
     "text": [
      "Training data: 48 rows x 22 columns \n",
      "Testing data: 16 rows x 21 columns\n",
      "Accuracy of Naive Bayes: 43.75%\n"
     ]
    }
   ],
   "source": [
    "# Main script to call functions\n",
    "trainingData = pd.read_csv(\"../Data/TrainingData.csv\").values\n",
    "testingData = pd.read_csv(\"../Data/TestingData.csv\").values\n",
    "summaries = summarizeByClass(trainingData)\n",
    "predictions = getPredictions(summaries,testingData)\n",
    "accuracy = calculateAccuracy(testingData,predictions)\n",
    "print(\"Training data: {} rows x {} columns \".format(trainingData.shape[0],trainingData.shape[1]))\n",
    "print(\"Testing data: {} rows x {} columns\".format(testingData.shape[0],testingData.shape[1]))\n",
    "print(\"Accuracy of Naive Bayes: {}%\".format(accuracy))"
   ]
  },
  {
   "cell_type": "code",
   "execution_count": 76,
   "metadata": {},
   "outputs": [
    {
     "data": {
      "image/png": "[encoded data removed]",
      "text/plain": [
       "<Figure size 432x288 with 1 Axes>"
      ]
     },
     "metadata": {
      "needs_background": "light"
     },
     "output_type": "display_data"
    }
   ],
   "source": [
    "# VISUALIZATION\n",
    "methods = [\"Sci-Kit\",\"Our Implementation\"]\n",
    "accuracies = [43.75,43.75]\n",
    "plt.title(\"Sci-Kit vs Our Implementation\")\n",
    "plt.xlabel(\"\")\n",
    "plt.ylabel(\"Accuracy(%)\")\n",
    "plt.bar(methods[0], accuracies[0], color = \"red\", label = \"Sci-Kit\")\n",
    "plt.bar(methods[1], accuracies[1], color = \"lime\", label = \"Our implementation\")\n",
    "plt.legend()\n",
    "plt.show()\n"
   ]
  }
 ],
 "metadata": {
  "interpreter": {
   "hash": "aee8b7b246df8f9039afb4144a1f6fd8d2ca17a180786b69acc140d282b71a49"
  },
  "kernelspec": {
   "display_name": "Python 3.9.12 64-bit",
   "language": "python",
   "name": "python3"
  },
  "language_info": {
   "codemirror_mode": {
    "name": "ipython",
    "version": 3
   },
   "file_extension": ".py",
   "mimetype": "text/x-python",
   "name": "python",
   "nbconvert_exporter": "python",
   "pygments_lexer": "ipython3",
   "version": "3.9.12"
  },
  "orig_nbformat": 4
 },
 "nbformat": 4,
 "nbformat_minor": 2
}
