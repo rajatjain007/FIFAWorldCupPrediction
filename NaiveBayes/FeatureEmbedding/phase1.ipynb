{
 "cells": [
  {
   "cell_type": "code",
   "execution_count": 13,
   "metadata": {},
   "outputs": [],
   "source": [
    "# NAIVE BAYES IMPELEMENTATION\n",
    "\n",
    "# Importing dependencies\n",
    "import pandas as pd\n",
    "from sklearn.model_selection import train_test_split\n",
    "from sklearn.naive_bayes import GaussianNB\n",
    "import matplotlib.pyplot as plt"
   ]
  },
  {
   "cell_type": "code",
   "execution_count": 14,
   "metadata": {},
   "outputs": [],
   "source": [
    "# Training and testing data preperation\n",
    "trainingData = pd.read_csv(\"../../Data/Dataset.csv\")\n",
    "testingData = pd.read_csv(\"../../Data/TestingData.csv\").values\n",
    "targets = trainingData[\"home_team_result\"]\n",
    "features = trainingData.drop([\"home_team_result\",\"winner_encoded\"],axis=1).values\n",
    "featuresTrain, targetsTrain = features[0:48], targets[0:48]\n",
    "featuresTest, targetsTest = testingData, targets[48:]\n"
   ]
  },
  {
   "cell_type": "code",
   "execution_count": 15,
   "metadata": {},
   "outputs": [
    {
     "name": "stdout",
     "output_type": "stream",
     "text": [
      "48 16\n",
      "[0. 0. 1. 0. 0. 1. 0. 0. 0. 0. 0. 0. 0. 0. 1. 0.]\n",
      "[1.0, 1.0, 0.0, 0.0, 1.0, 1.0, 1.0, 1.0, 0.0, 0.0, 0.0, 1.0, 1.0, 1.0, 1.0, 1.0]\n",
      "Naive Bayes accuracy:  0.375\n"
     ]
    }
   ],
   "source": [
    "# Define model, train and test\n",
    "model = GaussianNB()\n",
    "print(len(targetsTrain),len(targetsTest))\n",
    "#Training model\n",
    "model.fit(featuresTrain,targetsTrain)\n",
    "print(model.predict(testingData))\n",
    "print(targetsTest.tolist())\n",
    "print(\"Naive Bayes accuracy: \",model.score(featuresTest,targetsTest))"
   ]
  },
  {
   "cell_type": "code",
   "execution_count": 16,
   "metadata": {},
   "outputs": [],
   "source": [
    "# Generate graphs"
   ]
  }
 ],
 "metadata": {
  "interpreter": {
   "hash": "50268d6ed2a5ae339fbbb8319d22bf0851ab34d7c7cc113d9fe8d697a6e9c413"
  },
  "kernelspec": {
   "display_name": "Python 3.10.4 64-bit",
   "language": "python",
   "name": "python3"
  },
  "language_info": {
   "codemirror_mode": {
    "name": "ipython",
    "version": 3
   },
   "file_extension": ".py",
   "mimetype": "text/x-python",
   "name": "python",
   "nbconvert_exporter": "python",
   "pygments_lexer": "ipython3",
   "version": "3.10.4"
  },
  "orig_nbformat": 4
 },
 "nbformat": 4,
 "nbformat_minor": 2
}
