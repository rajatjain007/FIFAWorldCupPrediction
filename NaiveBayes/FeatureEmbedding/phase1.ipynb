{
 "cells": [
  {
   "cell_type": "code",
   "execution_count": 1,
   "metadata": {},
   "outputs": [],
   "source": [
    "# NAIVE BAYES IMPELEMENTATION\n",
    "\n",
    "# Importing dependencies\n",
    "import pandas as pd\n",
    "from sklearn.model_selection import train_test_split\n",
    "from sklearn.naive_bayes import GaussianNB\n",
    "import matplotlib.pyplot as plt"
   ]
  },
  {
   "cell_type": "code",
   "execution_count": 10,
   "metadata": {},
   "outputs": [],
   "source": [
    "# Training and testing data preperation\n",
    "trainingData = pd.read_csv(\"../../Data/Dataset.csv\")\n",
    "testingData = pd.read_csv(\"../../Data/TestingData.csv\").values\n",
    "targets = trainingData[\"home_team_result\"]\n",
    "features = trainingData.drop([\"home_team_result\",\"winner_encoded\"],axis=1).values\n",
    "featuresTrain, targetsTrain = features[0:47], targets[0:47]\n",
    "featuresTest, targetsTest = testingData, targets[47:]\n"
   ]
  },
  {
   "cell_type": "code",
   "execution_count": 11,
   "metadata": {},
   "outputs": [
    {
     "name": "stdout",
     "output_type": "stream",
     "text": [
      "Naive Bayes accuracy:  0.4117647058823529\n"
     ]
    }
   ],
   "source": [
    "# Define model, train and test\n",
    "model = GaussianNB()\n",
    "\n",
    "#Training model\n",
    "model.fit(featuresTrain,targetsTrain)\n",
    "print(\"Naive Bayes accuracy: \",model.score(featuresTest,targetsTest))"
   ]
  },
  {
   "cell_type": "code",
   "execution_count": null,
   "metadata": {},
   "outputs": [],
   "source": [
    "# Generate graphs"
   ]
  }
 ],
 "metadata": {
  "interpreter": {
   "hash": "aee8b7b246df8f9039afb4144a1f6fd8d2ca17a180786b69acc140d282b71a49"
  },
  "kernelspec": {
   "display_name": "Python 3.9.12 64-bit",
   "language": "python",
   "name": "python3"
  },
  "language_info": {
   "codemirror_mode": {
    "name": "ipython",
    "version": 3
   },
   "file_extension": ".py",
   "mimetype": "text/x-python",
   "name": "python",
   "nbconvert_exporter": "python",
   "pygments_lexer": "ipython3",
   "version": "3.9.12"
  },
  "orig_nbformat": 4
 },
 "nbformat": 4,
 "nbformat_minor": 2
}
