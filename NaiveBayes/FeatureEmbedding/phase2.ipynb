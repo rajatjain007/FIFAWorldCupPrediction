{
 "cells": [
  {
   "cell_type": "code",
   "execution_count": 105,
   "metadata": {},
   "outputs": [],
   "source": [
    "# Import dependencies\n",
    "import pandas as pd\n",
    "import math"
   ]
  },
  {
   "cell_type": "code",
   "execution_count": 106,
   "metadata": {},
   "outputs": [],
   "source": [
    "# Split the dataset by class values, returns a dictionary\n",
    "def seperateClasses(dataset):\n",
    "\tclasses = dict()\n",
    "\tfor i in range(len(dataset)):\n",
    "\t\tvector = dataset[i]\n",
    "\t\tclassValue = vector[-1]\n",
    "\t\tif (classValue not in classes):\n",
    "\t\t\tclasses[classValue] = list()\n",
    "\t\tclasses[classValue].append(vector)\n",
    "\treturn classes\n",
    "\n"
   ]
  },
  {
   "cell_type": "code",
   "execution_count": 107,
   "metadata": {},
   "outputs": [],
   "source": [
    "# Calculate mean, standard deviation\n",
    "def mean(numericalValues):\n",
    "    return sum(numericalValues)/float(len(numericalValues))\n",
    "\n",
    "def standardDeviation(numericalValues):\n",
    "    average = mean(numericalValues)\n",
    "    variance = sum(pow(x-average) for x in numericalValues)/float(len(numericalValues)-1)\n",
    "    return math.sqrt(variance)\n"
   ]
  },
  {
   "cell_type": "code",
   "execution_count": 108,
   "metadata": {},
   "outputs": [],
   "source": [
    "# Summarizing data\n",
    "def summarizingByClasses(dataset):\n",
    "    seperated = seperatedByClass(dataset)\n",
    "    summary = dict()\n",
    "    for classValue,instances in seperated.items():\n",
    "        summary[\"{}\".format(classValue)] = summarizingByClasses(instances)\n",
    "    return summary"
   ]
  },
  {
   "cell_type": "code",
   "execution_count": 109,
   "metadata": {},
   "outputs": [],
   "source": [
    "# Calculating probabilities\n",
    "def calculateProbability(x,mean,standardDeviation):\n",
    "    expo = math.exp(-(math.pow(x-mean,2)))/(2*math.pow(standardDeviation,2))\n",
    "    return (1/((math.sqrt(2*math.pi))*standardDeviation))*expo\n"
   ]
  },
  {
   "cell_type": "code",
   "execution_count": 110,
   "metadata": {},
   "outputs": [],
   "source": [
    "# Calculate class probabilities\n",
    "def calculateClassProbability(sumarry, inputVector):\n",
    "    probabilities = dict()\n",
    "    for classValue, classSummary in sumarry.items():\n",
    "        probabilities[classValue] = 1\n",
    "        for i in range(len(classSummary)):\n",
    "            mean,standardDeviation = classSummary[i]\n",
    "            x = inputVector[i]\n",
    "            probabilities[classValue] *= calculateProbability(x,mean,standardDeviation)\n",
    "        return probabilities"
   ]
  },
  {
   "cell_type": "code",
   "execution_count": 111,
   "metadata": {},
   "outputs": [],
   "source": [
    "# Predict\n",
    "def predict(summary, inputVector):\n",
    "    probabilities = calculateClassProbability(summary,inputVector)\n",
    "    bestLabel, bestProbability = None, -1\n",
    "    for classValue, probability in probabilities.items():\n",
    "        if bestLabel is None or probability>bestProbability:\n",
    "            bestLabel = classValue\n",
    "            bestProbability = probability\n",
    "    return bestLabel"
   ]
  },
  {
   "cell_type": "code",
   "execution_count": 112,
   "metadata": {},
   "outputs": [],
   "source": [
    "# Getting predictions\n",
    "def getPredictions(summary,testingData):\n",
    "    predictions = []\n",
    "    for i in range(len(testingData)):\n",
    "        result = predict(summary,testingData[i])\n",
    "        predictions.append(result)\n",
    "    return predictions"
   ]
  },
  {
   "cell_type": "code",
   "execution_count": 113,
   "metadata": {},
   "outputs": [],
   "source": [
    "# Calculate accuracy\n",
    "def getAccuracy(testingData,predictions):\n",
    "    correct = 0\n",
    "    for i in range(len(testingData)):\n",
    "        if testingData[i][-1] == predictions[i]:\n",
    "            correct += 1\n",
    "    return (correct/float(len(testingData)))*100.0"
   ]
  },
  {
   "cell_type": "code",
   "execution_count": 114,
   "metadata": {},
   "outputs": [
    {
     "ename": "TypeError",
     "evalue": "'dict' object is not callable",
     "output_type": "error",
     "traceback": [
      "\u001b[0;31m---------------------------------------------------------------------------\u001b[0m",
      "\u001b[0;31mTypeError\u001b[0m                                 Traceback (most recent call last)",
      "\u001b[1;32m/Users/enduser/Desktop/UCR/Spring22/CS235/FIFAWorldCupPrediction/NaiveBayes/FeatureEmbedding/phase2.ipynb Cell 10'\u001b[0m in \u001b[0;36m<cell line: 6>\u001b[0;34m()\u001b[0m\n\u001b[1;32m      <a href='vscode-notebook-cell:/Users/enduser/Desktop/UCR/Spring22/CS235/FIFAWorldCupPrediction/NaiveBayes/FeatureEmbedding/phase2.ipynb#ch0000008?line=3'>4</a>\u001b[0m seperatedByClass \u001b[39m=\u001b[39m seperateClasses((trainingData\u001b[39m.\u001b[39mvalues))\n\u001b[1;32m      <a href='vscode-notebook-cell:/Users/enduser/Desktop/UCR/Spring22/CS235/FIFAWorldCupPrediction/NaiveBayes/FeatureEmbedding/phase2.ipynb#ch0000008?line=4'>5</a>\u001b[0m testingData \u001b[39m=\u001b[39m pd\u001b[39m.\u001b[39mread_csv(\u001b[39m\"\u001b[39m\u001b[39m../../Data/TestingData.csv\u001b[39m\u001b[39m\"\u001b[39m)\n\u001b[0;32m----> <a href='vscode-notebook-cell:/Users/enduser/Desktop/UCR/Spring22/CS235/FIFAWorldCupPrediction/NaiveBayes/FeatureEmbedding/phase2.ipynb#ch0000008?line=5'>6</a>\u001b[0m summaries \u001b[39m=\u001b[39m summarizingByClasses(trainingData)\n\u001b[1;32m      <a href='vscode-notebook-cell:/Users/enduser/Desktop/UCR/Spring22/CS235/FIFAWorldCupPrediction/NaiveBayes/FeatureEmbedding/phase2.ipynb#ch0000008?line=6'>7</a>\u001b[0m predictions \u001b[39m=\u001b[39m getPredictions(summaries,testingData)\n\u001b[1;32m      <a href='vscode-notebook-cell:/Users/enduser/Desktop/UCR/Spring22/CS235/FIFAWorldCupPrediction/NaiveBayes/FeatureEmbedding/phase2.ipynb#ch0000008?line=7'>8</a>\u001b[0m accuracy \u001b[39m=\u001b[39m getAccuracy(testingData,predictions)\n",
      "\u001b[1;32m/Users/enduser/Desktop/UCR/Spring22/CS235/FIFAWorldCupPrediction/NaiveBayes/FeatureEmbedding/phase2.ipynb Cell 4'\u001b[0m in \u001b[0;36msummarizingByClasses\u001b[0;34m(dataset)\u001b[0m\n\u001b[1;32m      <a href='vscode-notebook-cell:/Users/enduser/Desktop/UCR/Spring22/CS235/FIFAWorldCupPrediction/NaiveBayes/FeatureEmbedding/phase2.ipynb#ch0000003?line=1'>2</a>\u001b[0m \u001b[39mdef\u001b[39;00m \u001b[39msummarizingByClasses\u001b[39m(dataset):\n\u001b[0;32m----> <a href='vscode-notebook-cell:/Users/enduser/Desktop/UCR/Spring22/CS235/FIFAWorldCupPrediction/NaiveBayes/FeatureEmbedding/phase2.ipynb#ch0000003?line=2'>3</a>\u001b[0m     seperated \u001b[39m=\u001b[39m seperatedByClass(dataset)\n\u001b[1;32m      <a href='vscode-notebook-cell:/Users/enduser/Desktop/UCR/Spring22/CS235/FIFAWorldCupPrediction/NaiveBayes/FeatureEmbedding/phase2.ipynb#ch0000003?line=3'>4</a>\u001b[0m     summary \u001b[39m=\u001b[39m \u001b[39mdict\u001b[39m()\n\u001b[1;32m      <a href='vscode-notebook-cell:/Users/enduser/Desktop/UCR/Spring22/CS235/FIFAWorldCupPrediction/NaiveBayes/FeatureEmbedding/phase2.ipynb#ch0000003?line=4'>5</a>\u001b[0m     \u001b[39mfor\u001b[39;00m classValue,instances \u001b[39min\u001b[39;00m seperated\u001b[39m.\u001b[39mitems():\n",
      "\u001b[0;31mTypeError\u001b[0m: 'dict' object is not callable"
     ]
    }
   ],
   "source": [
    "# Running the model\n",
    "trainingData = pd.read_csv(\"../../Data/TrainingData.csv\")\n",
    "metadata = trainingData.describe().to_dict()\n",
    "seperatedByClass = seperateClasses((trainingData.values))\n",
    "testingData = pd.read_csv(\"../../Data/TestingData.csv\")\n",
    "summaries = summarizingByClasses(trainingData)\n",
    "predictions = getPredictions(summaries,testingData)\n",
    "accuracy = getAccuracy(testingData,predictions)\n",
    "print(\"Accuracy: \",accuracy)"
   ]
  }
 ],
 "metadata": {
  "interpreter": {
   "hash": "aee8b7b246df8f9039afb4144a1f6fd8d2ca17a180786b69acc140d282b71a49"
  },
  "kernelspec": {
   "display_name": "Python 3.9.12 64-bit",
   "language": "python",
   "name": "python3"
  },
  "language_info": {
   "codemirror_mode": {
    "name": "ipython",
    "version": 3
   },
   "file_extension": ".py",
   "mimetype": "text/x-python",
   "name": "python",
   "nbconvert_exporter": "python",
   "pygments_lexer": "ipython3",
   "version": "3.9.12"
  },
  "orig_nbformat": 4
 },
 "nbformat": 4,
 "nbformat_minor": 2
}
