{
 "cells": [
  {
   "cell_type": "code",
   "execution_count": 18,
   "metadata": {},
   "outputs": [
    {
     "name": "stdout",
     "output_type": "stream",
     "text": [
      "['W' 'W' 'W' 'W' 'L' 'W' 'W' 'D' 'L' 'D' 'L' 'W' 'W' 'L' 'L' 'D' 'W' 'D'\n",
      " 'L' 'W' 'L' 'L' 'D' 'W' 'W' 'L' 'L' 'L' 'W' 'W' 'W' 'L' 'D' 'W' 'L' 'W'\n",
      " 'W' 'L' 'W' 'L' 'W' 'W' 'D' 'L' 'W' 'W' 'D' 'D' 'D' 'L' 'L' 'L' 'W' 'L'\n",
      " 'L' 'D' 'L' 'L' 'L' 'L' 'W' 'W' 'D' 'D' 'W' 'W' 'W' 'D' 'L' 'L' 'L' 'D'\n",
      " 'W' 'W' 'W' 'W']\n",
      "['W' 'W' 'D' 'W' 'L' 'L' 'L' 'D' 'L' 'L' 'L' 'D' 'W' 'L' 'D' 'W' 'W' 'W'\n",
      " 'L' 'W' 'D' 'L' 'W' 'D' 'W' 'L' 'L' 'L' 'W' 'D' 'W' 'L' 'W' 'W' 'L' 'W'\n",
      " 'D' 'L' 'W' 'L' 'L' 'W' 'L' 'L' 'W' 'W' 'L' 'W' 'L' 'L' 'L' 'L' 'D' 'L'\n",
      " 'L' 'W' 'D' 'D' 'L' 'L' 'W' 'W' 'L' 'L' 'W' 'W' 'D' 'D' 'L' 'L' 'L' 'L'\n",
      " 'D' 'L' 'W' 'W']\n"
     ]
    },
    {
     "data": {
      "text/plain": [
       "0.618421052631579"
      ]
     },
     "execution_count": 18,
     "metadata": {},
     "output_type": "execute_result"
    }
   ],
   "source": [
    "# Naive Bayes implementation\n",
    "import pandas as pd\n",
    "from sklearn.model_selection import train_test_split\n",
    "from sklearn.naive_bayes import GaussianNB\n",
    "\n",
    "trainingData = pd.read_csv(\"./Data/Dataset.csv\")\n",
    "\n",
    "features = trainingData.drop([\"timestamp\",\"Game Week\",\"home_team_result\",\"home_team_name\",\"away_team_name\",\"home_team_goal_timings\",\"away_team_goal_timings\"],axis=1).values\n",
    "targets = trainingData[\"home_team_result\"].values\n",
    "\n",
    "featuresTrain, targetsTrain = features[0:180], targets[0:180]\n",
    "featuresTest, targetsTest = features[180:], targets[180:]\n",
    "\n",
    "#Define Gaussian Model\n",
    "model = GaussianNB()\n",
    "\n",
    "#Training model\n",
    "model.fit(featuresTrain,targetsTrain)\n",
    "\n",
    "#Predicted and actual values\n",
    "model.predict(featuresTest)\n",
    "print(targetsTest)\n",
    "print(model.predict(featuresTest))\n",
    "model.score(featuresTest,targetsTest)\n",
    "\n",
    "\n",
    "\n"
   ]
  }
 ],
 "metadata": {
  "interpreter": {
   "hash": "aee8b7b246df8f9039afb4144a1f6fd8d2ca17a180786b69acc140d282b71a49"
  },
  "kernelspec": {
   "display_name": "Python 3.9.12 64-bit",
   "language": "python",
   "name": "python3"
  },
  "language_info": {
   "codemirror_mode": {
    "name": "ipython",
    "version": 3
   },
   "file_extension": ".py",
   "mimetype": "text/x-python",
   "name": "python",
   "nbconvert_exporter": "python",
   "pygments_lexer": "ipython3",
   "version": "3.9.12"
  },
  "orig_nbformat": 4
 },
 "nbformat": 4,
 "nbformat_minor": 2
}
