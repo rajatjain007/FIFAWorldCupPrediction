{
 "cells": [
  {
   "cell_type": "code",
   "execution_count": 5,
   "metadata": {},
   "outputs": [
    {
     "name": "stdout",
     "output_type": "stream",
     "text": [
      "Dimensions of FIFA WC 2018: 64rows X 64columns\n",
      "Dimensions of FIFA WC 2014: 64rows X 64columns\n",
      "Dimensions of FIFA WC 2010: 64rows X 64columns\n"
     ]
    }
   ],
   "source": [
    "#Import necessary packages.\n",
    "import pandas as pd\n",
    "\n",
    "#Import necessary data\n",
    "data2018 = pd.read_csv(r'./Data/FIFAWorldCup2018.csv')\n",
    "data2014 = pd.read_csv(r'./Data/FIFAWorldCup2014.csv')\n",
    "data2010 = pd.read_csv(r'./Data/FIFAWorldCup2010.csv')\n",
    "\n",
    "#Stats about data sets\n",
    "print(\"Dimensions of FIFA WC 2018: {}rows X {}columns\".format(data2018.shape[0],data2018.shape[1]))\n",
    "print(\"Dimensions of FIFA WC 2014: {}rows X {}columns\".format(data2014.shape[0],data2014.shape[1]))\n",
    "print(\"Dimensions of FIFA WC 2010: {}rows X {}columns\".format(data2010.shape[0],data2010.shape[1]))"
   ]
  },
  {
   "cell_type": "code",
   "execution_count": 7,
   "metadata": {},
   "outputs": [
    {
     "ename": "AttributeError",
     "evalue": "'NoneType' object has no attribute 'to_csv'",
     "output_type": "error",
     "traceback": [
      "\u001b[0;31m---------------------------------------------------------------------------\u001b[0m",
      "\u001b[0;31mAttributeError\u001b[0m                            Traceback (most recent call last)",
      "\u001b[1;32m/Users/enduser/Desktop/UCR/Spring22/CS235/FIFAWorldCupPrediction/project.ipynb Cell 2'\u001b[0m in \u001b[0;36m<cell line: 9>\u001b[0;34m()\u001b[0m\n\u001b[1;32m      <a href='vscode-notebook-cell:/Users/enduser/Desktop/UCR/Spring22/CS235/FIFAWorldCupPrediction/project.ipynb#ch0000001?line=5'>6</a>\u001b[0m trainingData \u001b[39m=\u001b[39m trainingData\u001b[39m.\u001b[39mdrop(namesOfColumnsToBeDropped,axis\u001b[39m=\u001b[39m\u001b[39m1\u001b[39m,inplace\u001b[39m=\u001b[39m\u001b[39mTrue\u001b[39;00m)\n\u001b[1;32m      <a href='vscode-notebook-cell:/Users/enduser/Desktop/UCR/Spring22/CS235/FIFAWorldCupPrediction/project.ipynb#ch0000001?line=7'>8</a>\u001b[0m \u001b[39m#Writing Dataset.csv\u001b[39;00m\n\u001b[0;32m----> <a href='vscode-notebook-cell:/Users/enduser/Desktop/UCR/Spring22/CS235/FIFAWorldCupPrediction/project.ipynb#ch0000001?line=8'>9</a>\u001b[0m trainingData\u001b[39m.\u001b[39;49mto_csv(\u001b[39m'\u001b[39m\u001b[39m./Data/Dataset.csv\u001b[39m\u001b[39m'\u001b[39m,index\u001b[39m=\u001b[39m\u001b[39mFalse\u001b[39;00m)\n\u001b[1;32m     <a href='vscode-notebook-cell:/Users/enduser/Desktop/UCR/Spring22/CS235/FIFAWorldCupPrediction/project.ipynb#ch0000001?line=10'>11</a>\u001b[0m \u001b[39m#Stats about trainingData\u001b[39;00m\n\u001b[1;32m     <a href='vscode-notebook-cell:/Users/enduser/Desktop/UCR/Spring22/CS235/FIFAWorldCupPrediction/project.ipynb#ch0000001?line=11'>12</a>\u001b[0m \u001b[39mprint\u001b[39m(\u001b[39m\"\u001b[39m\u001b[39mDimensions of training data: \u001b[39m\u001b[39m{}\u001b[39;00m\u001b[39mrows X \u001b[39m\u001b[39m{}\u001b[39;00m\u001b[39mcolumns\u001b[39m\u001b[39m\"\u001b[39m\u001b[39m.\u001b[39mformat(trainingData\u001b[39m.\u001b[39mshape[\u001b[39m0\u001b[39m],trainingData\u001b[39m.\u001b[39mshape[\u001b[39m1\u001b[39m]))\n",
      "\u001b[0;31mAttributeError\u001b[0m: 'NoneType' object has no attribute 'to_csv'"
     ]
    }
   ],
   "source": [
    "#DATA INTEGRATION\n",
    "trainingData = pd.concat([data2010,data2014,data2018])\n",
    "\n",
    "#DATA PREPROCESSING\n",
    "namesOfColumnsToBeDropped = [\"status\",\"attendance\",\"referee\",\"stadium_name\"]\n",
    "trainingData.drop(namesOfColumnsToBeDropped,axis=1,inplace=True)\n",
    "\n",
    "#Writing Dataset.csv\n",
    "trainingData.to_csv('./Data/Dataset.csv',index=False)\n",
    "\n",
    "#Stats about trainingData\n",
    "print(\"Dimensions of training data: {}rows X {}columns\".format(trainingData.shape[0],trainingData.shape[1]))"
   ]
  }
 ],
 "metadata": {
  "interpreter": {
   "hash": "aee8b7b246df8f9039afb4144a1f6fd8d2ca17a180786b69acc140d282b71a49"
  },
  "kernelspec": {
   "display_name": "Python 3.9.12 64-bit",
   "language": "python",
   "name": "python3"
  },
  "language_info": {
   "codemirror_mode": {
    "name": "ipython",
    "version": 3
   },
   "file_extension": ".py",
   "mimetype": "text/x-python",
   "name": "python",
   "nbconvert_exporter": "python",
   "pygments_lexer": "ipython3",
   "version": "3.9.12"
  },
  "orig_nbformat": 4
 },
 "nbformat": 4,
 "nbformat_minor": 2
}
