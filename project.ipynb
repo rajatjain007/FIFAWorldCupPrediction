{
 "cells": [
  {
   "cell_type": "code",
   "execution_count": 17,
   "metadata": {},
   "outputs": [
    {
     "name": "stdout",
     "output_type": "stream",
     "text": [
      "Dimensions of data: 64rows X 64columns\n",
      "Dimensions of data: 64rows X 64columns\n",
      "Dimensions of data: 64rows X 64columns\n"
     ]
    }
   ],
   "source": [
    "#Import necessary packages.\n",
    "import pandas as pd\n",
    "\n",
    "#Import necessary data\n",
    "data2018 = pd.read_csv(r'./FIFAWorldCup2018.csv')\n",
    "data2014 = pd.read_csv(r'./FIFAWorldCup2014.csv')\n",
    "data2010 = pd.read_csv(r'./FIFAWorldCup2010.csv')\n",
    "\n",
    "#Stats about data sets\n",
    "print(\"Dimensions of FIFA WC 2018: {}rows X {}columns\".format(data2018.shape[0],data2018.shape[1]))\n",
    "print(\"Dimensions of FIFA WC 2014: {}rows X {}columns\".format(data2014.shape[0],data2014.shape[1]))\n",
    "print(\"Dimensions of FIFA WC 2010: {}rows X {}columns\".format(data2010.shape[0],data2010.shape[1]))"
   ]
  },
  {
   "cell_type": "code",
   "execution_count": 20,
   "metadata": {},
   "outputs": [],
   "source": [
    "#DATA INTEGRATION\n",
    "trainingData = pd.concat([data2010,data2014,data2018])\n",
    "\n",
    "#DATA PREPROCESSING\n",
    "\n",
    "#Writing Dataset.csv\n",
    "trainingData.to_csv('Dataset.csv',index=False)"
   ]
  }
 ],
 "metadata": {
  "interpreter": {
   "hash": "aee8b7b246df8f9039afb4144a1f6fd8d2ca17a180786b69acc140d282b71a49"
  },
  "kernelspec": {
   "display_name": "Python 3.9.12 64-bit",
   "language": "python",
   "name": "python3"
  },
  "language_info": {
   "codemirror_mode": {
    "name": "ipython",
    "version": 3
   },
   "file_extension": ".py",
   "mimetype": "text/x-python",
   "name": "python",
   "nbconvert_exporter": "python",
   "pygments_lexer": "ipython3",
   "version": "3.9.12"
  },
  "orig_nbformat": 4
 },
 "nbformat": 4,
 "nbformat_minor": 2
}
