{
 "cells": [
  {
   "cell_type": "code",
   "execution_count": 232,
   "metadata": {},
   "outputs": [],
   "source": [
    "# KNN Implementation from Scratch\n",
    "\n",
    "import pandas as pd\n",
    "import numpy as np \n",
    "import matplotlib.pyplot as plt"
   ]
  },
  {
   "cell_type": "code",
   "execution_count": 233,
   "metadata": {},
   "outputs": [],
   "source": [
    "# Definintions for all Distance Functions\n",
    "\n",
    "def manhattan_distance(x, y):\n",
    "    distance = 0.0\n",
    "    dimensions = len(x)\n",
    "    for i in range(dimensions):\n",
    "        distance += abs(x[i] - y[i])\n",
    "    return distance\n",
    "\n",
    "def euclidian_distance(x, y):\n",
    "    distance = 0.0\n",
    "    dimensions = len(x)\n",
    "    for i in range(dimensions):\n",
    "        distance += (x[i] - y[i])**2\n",
    "    distance = distance**(1/2)\n",
    "    return distance\n",
    "\n",
    "def cosine_distance(x, y):\n",
    "    similarity = 0.0\n",
    "    l2norm_x = 0.0\n",
    "    l2norm_y = 0.0 \n",
    "    dimensions = len(x)\n",
    "    for i in range(dimensions):\n",
    "        similarity += x[i] + y[i]\n",
    "        l2norm_x += x[i]**2\n",
    "        l2norm_y += y[i]**2\n",
    "    l2norm_x = l2norm_x**(1/2)\n",
    "    l2norm_y = l2norm_y**(1/2)\n",
    "    similarity = similarity / (l2norm_x * l2norm_y)\n",
    "    distance = 1 - similarity\n",
    "    return distance\n",
    "\n",
    "def hamming_distance(x, y):\n",
    "    distance = 0.0\n",
    "    dimensions = len(x)\n",
    "    for i in range(dimensions):\n",
    "        if x[i] != y[i]:\n",
    "            distance += 1\n",
    "    return distance"
   ]
  },
  {
   "cell_type": "code",
   "execution_count": 234,
   "metadata": {},
   "outputs": [],
   "source": [
    "def take_second_element(row):\n",
    "    return row[1]\n",
    "\n",
    "def k_nearest_neighbors(k, featuresTrain, targetsTrain, featuresTest, distance_function):\n",
    "    predictionTest = []\n",
    "    # featuresTestIndex = []\n",
    "    # for i in len(range(featuresTest)):\n",
    "    #     featuresTestIndex.append(i)\n",
    "    \n",
    "    for testcase in featuresTest:\n",
    "        distances = []\n",
    "        i = 0\n",
    "        for traincase in featuresTrain:\n",
    "            distance = distance_function(testcase, traincase)\n",
    "            distances.append((i,distance))\n",
    "            i += 1\n",
    "        distances.sort(key=take_second_element)\n",
    "        k_neighbors = distances[:k]\n",
    "        k_indices = []\n",
    "        for row in k_neighbors:\n",
    "            k_indices.append(row[0])\n",
    "        \n",
    "        count_0 = 0\n",
    "        count_1 = 0\n",
    "\n",
    "        for i in range(len(k_indices)):\n",
    "            if targetsTrain.values[k_indices[i]] == 0:\n",
    "                count_0 += 1\n",
    "            else:\n",
    "                count_1 += 1\n",
    "        if count_0 > count_1:\n",
    "            predictionTest.append(0)\n",
    "        else:\n",
    "            predictionTest.append(1)\n",
    "    return predictionTest"
   ]
  },
  {
   "cell_type": "code",
   "execution_count": 235,
   "metadata": {},
   "outputs": [
    {
     "name": "stdout",
     "output_type": "stream",
     "text": [
      "[1, 0, 1, 0, 1, 0, 0, 0, 1, 1, 1, 0, 1, 0, 0, 1]\n",
      "[1. 1. 0. 0. 1. 1. 1. 1. 0. 0. 0. 1. 1. 1. 1. 1.]\n",
      "Accuracy of model at K = 7 is 0.3125\n"
     ]
    }
   ],
   "source": [
    "# Import Training and Testing Data\n",
    "\n",
    "dfTrain = pd.read_csv(\"../Data/TrainingData.csv\")\n",
    "dfTest = pd.read_csv(\"../Data/TestingData.csv\")\n",
    "\n",
    "# Define Features and Targets \n",
    "\n",
    "targetsTrain = dfTrain[\"home_team_result\"]\n",
    "featuresTrain = dfTrain.drop([\"home_team_name\",\"away_team_name\",\"home_team_goal_count\",\"away_team_goal_count\",\"winner_encoded\",\"home_team_result\"],axis=1).values\n",
    "\n",
    "targetsTest = dfTest[\"home_team_result\"]\n",
    "featuresTest = dfTest.drop([\"home_team_name\",\"away_team_name\",\"home_team_goal_count\",\"away_team_goal_count\",\"home_team_result\"],axis=1).values\n",
    "\n",
    "k = 7\n",
    "predictionTest = k_nearest_neighbors(k, featuresTrain, targetsTrain, featuresTest, hamming_distance)\n",
    "print(predictionTest)\n",
    "print(targetsTest.values)\n",
    "\n",
    "correct = 0\n",
    "total = 0\n",
    "for i in range(len(targetsTest)):\n",
    "    if predictionTest[i] == targetsTest[i]:\n",
    "        correct += 1\n",
    "    total += 1\n",
    "accuracy = correct / total\n",
    "\n",
    "print(\"Accuracy of model at K =\", k ,\"is\", accuracy)"
   ]
  },
  {
   "cell_type": "code",
   "execution_count": 236,
   "metadata": {},
   "outputs": [
    {
     "name": "stdout",
     "output_type": "stream",
     "text": [
      "Minimum error:- 0.25 at K = 4\n"
     ]
    },
    {
     "data": {
      "image/png": "[encoded data removed]",
      "text/plain": [
       "<Figure size 720x432 with 1 Axes>"
      ]
     },
     "metadata": {
      "needs_background": "light"
     },
     "output_type": "display_data"
    }
   ],
   "source": [
    "# Find Optimal Value of k\n",
    "error_rate = []\n",
    "for i in range(1,15):\n",
    " predictionTest_i = k_nearest_neighbors(i, featuresTrain, targetsTrain, featuresTest, manhattan_distance)\n",
    " error_rate.append(np.mean(predictionTest_i != targetsTest))\n",
    "\n",
    "# Calculate Index with Minimum Error Rate\n",
    "k_min = 100000\n",
    "for i in range(0,14):\n",
    "    if error_rate[i] <= k_min:\n",
    "        k_min = error_rate[i]\n",
    "        k_index = i + 1\n",
    "        \n",
    "# Generate Graph\n",
    "plt.figure(figsize=(10,6))\n",
    "plt.plot(range(1,15),error_rate,color='blue', linestyle='dashed', \n",
    "         marker='o',markerfacecolor='red', markersize=10)\n",
    "plt.title('Error Rate vs. K Value')\n",
    "plt.xlabel('K')\n",
    "plt.ylabel('Error Rate')\n",
    "print(\"Minimum error:-\",min(error_rate),\"at K =\", k_index)\n",
    "\n",
    "k = k_index"
   ]
  }
 ],
 "metadata": {
  "interpreter": {
   "hash": "1cb387c57e392708beb3c90309f84f6db205f825c5ed82f7cb968154464c519c"
  },
  "kernelspec": {
   "display_name": "Python 3.7.6 ('base')",
   "language": "python",
   "name": "python3"
  },
  "language_info": {
   "codemirror_mode": {
    "name": "ipython",
    "version": 3
   },
   "file_extension": ".py",
   "mimetype": "text/x-python",
   "name": "python",
   "nbconvert_exporter": "python",
   "pygments_lexer": "ipython3",
   "version": "3.7.6"
  },
  "orig_nbformat": 4
 },
 "nbformat": 4,
 "nbformat_minor": 2
}
