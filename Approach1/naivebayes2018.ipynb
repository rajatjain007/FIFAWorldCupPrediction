{
 "cells": [
  {
   "cell_type": "code",
   "execution_count": 56,
   "metadata": {},
   "outputs": [],
   "source": [
    "# Naive Bayes implementation only on 2018's data\n",
    "\n",
    "# Importing necessary dependencies\n",
    "import pandas as pd\n",
    "from sklearn.model_selection import train_test_split\n",
    "from sklearn.naive_bayes import GaussianNB"
   ]
  },
  {
   "cell_type": "code",
   "execution_count": 57,
   "metadata": {},
   "outputs": [
    {
     "name": "stdout",
     "output_type": "stream",
     "text": [
      "Dimensions of FIFA WC 2018: 64rows X 64columns\n",
      "Dimensions of FIFA WC 2018 after dropping attributes: 64rows X 38columns\n",
      "       home_team_goal_count  away_team_goal_count  total_goal_count  \\\n",
      "count             64.000000             64.000000         64.000000   \n",
      "mean               1.421875              1.218750          2.640625   \n",
      "std                1.354647              0.916667          1.577291   \n",
      "min                0.000000              0.000000          0.000000   \n",
      "25%                0.000000              0.750000          1.750000   \n",
      "50%                1.000000              1.000000          2.000000   \n",
      "75%                2.000000              2.000000          3.000000   \n",
      "max                6.000000              3.000000          7.000000   \n",
      "\n",
      "       total_goals_at_half_time  home_team_goal_count_half_time  \\\n",
      "count                 64.000000                       64.000000   \n",
      "mean                   1.015625                        0.578125   \n",
      "std                    1.061478                        0.887384   \n",
      "min                    0.000000                        0.000000   \n",
      "25%                    0.000000                        0.000000   \n",
      "50%                    1.000000                        0.000000   \n",
      "75%                    2.000000                        1.000000   \n",
      "max                    5.000000                        5.000000   \n",
      "\n",
      "       away_team_goal_count_half_time  home_team_corner_count  \\\n",
      "count                       64.000000               64.000000   \n",
      "mean                         0.437500                4.890625   \n",
      "std                          0.530798                2.588848   \n",
      "min                          0.000000                0.000000   \n",
      "25%                          0.000000                3.000000   \n",
      "50%                          0.000000                5.000000   \n",
      "75%                          1.000000                7.000000   \n",
      "max                          2.000000               10.000000   \n",
      "\n",
      "       away_team_corner_count  home_team_yellow_cards  home_team_red_cards  \\\n",
      "count               64.000000               64.000000            64.000000   \n",
      "mean                 4.531250                1.671875             0.031250   \n",
      "std                  2.267568                1.222211             0.175368   \n",
      "min                  1.000000                0.000000             0.000000   \n",
      "25%                  3.000000                1.000000             0.000000   \n",
      "50%                  5.000000                2.000000             0.000000   \n",
      "75%                  6.000000                2.000000             0.000000   \n",
      "max                 11.000000                6.000000             1.000000   \n",
      "\n",
      "       ...  average_cards_per_match_pre_match  odds_ft_home_team_win  \\\n",
      "count  ...                          64.000000              64.000000   \n",
      "mean   ...                           2.332031               3.394531   \n",
      "std    ...                           1.679131               2.755701   \n",
      "min    ...                           0.000000               1.200000   \n",
      "25%    ...                           0.750000               1.590000   \n",
      "50%    ...                           2.500000               2.425000   \n",
      "75%    ...                           3.500000               4.187500   \n",
      "max    ...                           6.000000              15.500000   \n",
      "\n",
      "       odds_ft_draw  odds_ft_away_team_win  odds_ft_over15  odds_ft_over25  \\\n",
      "count     64.000000              64.000000       64.000000       64.000000   \n",
      "mean       3.943750               4.987344        1.385000        2.186406   \n",
      "std        1.126326               4.440797        0.129001        0.380765   \n",
      "min        2.750000               1.160000        1.120000        1.410000   \n",
      "25%        3.200000               2.100000        1.270000        1.870000   \n",
      "50%        3.550000               3.150000        1.385000        2.175000   \n",
      "75%        4.350000               6.500000        1.490000        2.500000   \n",
      "max        7.250000              20.250000        1.650000        3.000000   \n",
      "\n",
      "       odds_ft_over35  odds_ft_over45  odds_btts_yes  odds_btts_no  \n",
      "count       64.000000       64.000000      64.000000     64.000000  \n",
      "mean         4.077344        9.850938       2.080469      1.694063  \n",
      "std          1.042316        6.499592       0.228149      0.174435  \n",
      "min          2.000000        3.500000       1.560000      1.410000  \n",
      "25%          3.200000        6.500000       1.940000      1.585000  \n",
      "50%          4.075000        8.000000       2.100000      1.660000  \n",
      "75%          4.900000       10.500000       2.212500      1.770000  \n",
      "max          6.300000       41.000000       2.700000      2.300000  \n",
      "\n",
      "[8 rows x 38 columns]\n"
     ]
    }
   ],
   "source": [
    "# DATA PREPROCESSING\n",
    "trainingData = pd.read_csv(\"../Data/FIFAWorldCup2018.csv\")\n",
    "print(\"Dimensions of FIFA WC 2018: {}rows X {}columns\".format(trainingData.shape[0],trainingData.shape[1]))\n",
    "\n",
    "namesOfColumnsToBeDropped = [\"date_GMT\",\"status\",\"attendance\",\"referee\",\"stadium_name\", \"team_a_xg\", \"team_b_xg\", \"btts_percentage_pre_match\", \n",
    "\"over_15_percentage_pre_match\", \"over_25_percentage_pre_match\",\"over_35_percentage_pre_match\", \"over_45_percentage_pre_match\",\n",
    "\"over_15_HT_FHG_percentage_pre_match\", \"over_05_HT_FHG_percentage_pre_match\", \"over_15_2HG_percentage_pre_match\", \"over_05_2HG_percentage_pre_match\",\"timestamp\",\"Game Week\",\"home_team_name\",\"away_team_name\",\"home_team_goal_timings\",\"away_team_goal_timings\",'Pre-Match PPG (Home)', 'Pre-Match PPG (Away)', 'home_ppg', 'away_ppg']\n",
    "\n",
    "trainingData = trainingData.drop(namesOfColumnsToBeDropped,axis=1)\n",
    "\n",
    "print(\"Dimensions of FIFA WC 2018 after dropping attributes: {}rows X {}columns\".format(trainingData.shape[0],trainingData.shape[1]))\n",
    "\n",
    "home_team_result = []\n",
    "\n",
    "#Generating prediction classes W,D,L where W = Win, D = Draw, L = Loss\n",
    "for index,match in trainingData.iterrows():\n",
    "    if(match[\"home_team_goal_count\"]>match[\"away_team_goal_count\"]):\n",
    "        #print(\"{} {}:{} {}\\t Home team won\".format(match[\"home_team_name\"],match[\"home_team_goal_count\"],match[\"away_team_goal_count\"],match[\"away_team_name\"]))\n",
    "        # Adding home_team_result attribute to get result of team1\n",
    "        home_team_result.append(\"W\")\n",
    "    \n",
    "    if(match[\"home_team_goal_count\"]<match[\"away_team_goal_count\"]):\n",
    "        #print(\"{} {}:{} {}\\t Away team won\".format(match[\"home_team_name\"],match[\"home_team_goal_count\"],match[\"away_team_goal_count\"],match[\"away_team_name\"]))\n",
    "        # Adding home_team_result attribute to get result of team1\n",
    "        home_team_result.append(\"L\")\n",
    "\n",
    "    if(match[\"home_team_goal_count\"]==match[\"away_team_goal_count\"]):\n",
    "        #print(\"{} {}:{} {}\\t Draw\".format(match[\"home_team_name\"],match[\"home_team_goal_count\"],match[\"away_team_goal_count\"],match[\"away_team_name\"]))\n",
    "        # Adding home_team_result attribute to get result of team1\n",
    "        home_team_result.append(\"D\")\n",
    "\n",
    "trainingData[\"home_team_result\"] = home_team_result\n",
    "\n",
    "#Writing Dataset.csv\n",
    "trainingData.to_csv('../Data/Dataset1.csv',index=False)\n",
    "\n",
    "print(trainingData.describe())"
   ]
  },
  {
   "cell_type": "code",
   "execution_count": 58,
   "metadata": {},
   "outputs": [],
   "source": [
    "# TRAINING AND TESTING DATA PREPARATION\n",
    "targets = trainingData[\"home_team_result\"]\n",
    "features = trainingData.drop(\"home_team_result\",axis=1).values\n",
    "\n",
    "featuresTrain, targetsTrain = features[0:47], targets[0:47]\n",
    "featuresTest, targetsTest = features[47:], targets[47:]\n"
   ]
  },
  {
   "cell_type": "code",
   "execution_count": 60,
   "metadata": {},
   "outputs": [
    {
     "name": "stdout",
     "output_type": "stream",
     "text": [
      "47    L\n",
      "48    W\n",
      "49    W\n",
      "50    D\n",
      "51    D\n",
      "52    W\n",
      "53    W\n",
      "54    W\n",
      "55    D\n",
      "56    L\n",
      "57    L\n",
      "58    L\n",
      "59    D\n",
      "60    W\n",
      "61    W\n",
      "62    W\n",
      "63    W\n",
      "Name: home_team_result, dtype: object\n"
     ]
    },
    {
     "data": {
      "text/plain": [
       "0.47058823529411764"
      ]
     },
     "execution_count": 60,
     "metadata": {},
     "output_type": "execute_result"
    }
   ],
   "source": [
    "# DEFINE GAUSSIAN MODEL, TRAIN AND TEST\n",
    "model = GaussianNB()\n",
    "\n",
    "#Training model\n",
    "model.fit(featuresTrain,targetsTrain)\n",
    "\n",
    "#Predicted and actual values\n",
    "# print(targetsTest)\n",
    "# print(model.predict(featuresTest))\n",
    "model.score(featuresTest,targetsTest)\n"
   ]
  }
 ],
 "metadata": {
  "interpreter": {
   "hash": "aee8b7b246df8f9039afb4144a1f6fd8d2ca17a180786b69acc140d282b71a49"
  },
  "kernelspec": {
   "display_name": "Python 3.9.12 64-bit",
   "language": "python",
   "name": "python3"
  },
  "language_info": {
   "codemirror_mode": {
    "name": "ipython",
    "version": 3
   },
   "file_extension": ".py",
   "mimetype": "text/x-python",
   "name": "python",
   "nbconvert_exporter": "python",
   "pygments_lexer": "ipython3",
   "version": "3.9.12"
  },
  "orig_nbformat": 4
 },
 "nbformat": 4,
 "nbformat_minor": 2
}
