{
 "cells": [
  {
   "cell_type": "code",
   "execution_count": 1,
   "metadata": {},
   "outputs": [
    {
     "name": "stdout",
     "output_type": "stream",
     "text": [
      "Dimensions of FIFA WC 2018: 64rows X 64columns\n",
      "Dimensions of FIFA WC 2014: 64rows X 64columns\n",
      "Dimensions of FIFA WC 2010: 64rows X 64columns\n",
      "Dimensions of FIFA WC 2006: 64rows X 64columns\n"
     ]
    }
   ],
   "source": [
    "#Import necessary packages.\n",
    "import pandas as pd\n",
    "import matplotlib.pyplot as plt\n",
    "\n",
    "#Import necessary data\n",
    "data2006 = pd.read_csv(r'../Data/FIFAWorldCup2006.csv')\n",
    "data2018 = pd.read_csv(r'../Data/FIFAWorldCup2018.csv')\n",
    "data2014 = pd.read_csv(r'../Data/FIFAWorldCup2014.csv')\n",
    "data2010 = pd.read_csv(r'../Data/FIFAWorldCup2010.csv')\n",
    "\n",
    "#Stats about data sets\n",
    "print(\"Dimensions of FIFA WC 2018: {}rows X {}columns\".format(data2018.shape[0],data2018.shape[1]))\n",
    "print(\"Dimensions of FIFA WC 2014: {}rows X {}columns\".format(data2014.shape[0],data2014.shape[1]))\n",
    "print(\"Dimensions of FIFA WC 2010: {}rows X {}columns\".format(data2010.shape[0],data2010.shape[1]))\n",
    "print(\"Dimensions of FIFA WC 2006: {}rows X {}columns\".format(data2006.shape[0],data2006.shape[1]))\n"
   ]
  },
  {
   "cell_type": "code",
   "execution_count": 2,
   "metadata": {},
   "outputs": [],
   "source": [
    "#DATA INTEGRATION\n",
    "trainingData = pd.concat([data2006,data2010,data2014,data2018])\n",
    "\n",
    "#DATA PREPROCESSING\n",
    "namesOfColumnsToBeDropped = [\"date_GMT\",\"status\",\"attendance\",\"referee\",\"stadium_name\", \"team_a_xg\", \"team_b_xg\", \"btts_percentage_pre_match\", \n",
    "\"over_15_percentage_pre_match\", \"over_25_percentage_pre_match\",\"over_35_percentage_pre_match\", \"over_45_percentage_pre_match\",\n",
    "\"over_15_HT_FHG_percentage_pre_match\", \"over_05_HT_FHG_percentage_pre_match\", \"over_15_2HG_percentage_pre_match\", \"over_05_2HG_percentage_pre_match\"]\n",
    "\n",
    "trainingData.drop(namesOfColumnsToBeDropped,axis=1,inplace=True)\n",
    "\n"
   ]
  },
  {
   "cell_type": "code",
   "execution_count": 3,
   "metadata": {},
   "outputs": [
    {
     "name": "stdout",
     "output_type": "stream",
     "text": [
      "Index(['timestamp', 'home_team_name', 'away_team_name', 'Game Week',\n",
      "       'Pre-Match PPG (Home)', 'Pre-Match PPG (Away)', 'home_ppg', 'away_ppg',\n",
      "       'home_team_goal_count', 'away_team_goal_count', 'total_goal_count',\n",
      "       'total_goals_at_half_time', 'home_team_goal_count_half_time',\n",
      "       'away_team_goal_count_half_time', 'home_team_goal_timings',\n",
      "       'away_team_goal_timings', 'home_team_corner_count',\n",
      "       'away_team_corner_count', 'home_team_yellow_cards',\n",
      "       'home_team_red_cards', 'away_team_yellow_cards', 'away_team_red_cards',\n",
      "       'home_team_first_half_cards', 'home_team_second_half_cards',\n",
      "       'away_team_first_half_cards', 'away_team_second_half_cards',\n",
      "       'home_team_shots', 'away_team_shots', 'home_team_shots_on_target',\n",
      "       'away_team_shots_on_target', 'home_team_shots_off_target',\n",
      "       'away_team_shots_off_target', 'home_team_fouls', 'away_team_fouls',\n",
      "       'home_team_possession', 'away_team_possession',\n",
      "       'average_goals_per_match_pre_match',\n",
      "       'average_corners_per_match_pre_match',\n",
      "       'average_cards_per_match_pre_match', 'odds_ft_home_team_win',\n",
      "       'odds_ft_draw', 'odds_ft_away_team_win', 'odds_ft_over15',\n",
      "       'odds_ft_over25', 'odds_ft_over35', 'odds_ft_over45', 'odds_btts_yes',\n",
      "       'odds_btts_no', 'home_team_result'],\n",
      "      dtype='object')\n"
     ]
    }
   ],
   "source": [
    "home_team_result = []\n",
    "\n",
    "#Generating prediction classes W,D,L where W = Win, D = Draw, L = Loss\n",
    "for index,match in trainingData.iterrows():\n",
    "    if(match[\"home_team_goal_count\"]>match[\"away_team_goal_count\"]):\n",
    "        #print(\"{} {}:{} {}\\t Home team won\".format(match[\"home_team_name\"],match[\"home_team_goal_count\"],match[\"away_team_goal_count\"],match[\"away_team_name\"]))\n",
    "        # Adding home_team_result attribute to get result of team1\n",
    "        home_team_result.append(\"W\")\n",
    "    \n",
    "    if(match[\"home_team_goal_count\"]<match[\"away_team_goal_count\"]):\n",
    "        #print(\"{} {}:{} {}\\t Away team won\".format(match[\"home_team_name\"],match[\"home_team_goal_count\"],match[\"away_team_goal_count\"],match[\"away_team_name\"]))\n",
    "        # Adding home_team_result attribute to get result of team1\n",
    "        home_team_result.append(\"L\")\n",
    "\n",
    "    if(match[\"home_team_goal_count\"]==match[\"away_team_goal_count\"]):\n",
    "        #print(\"{} {}:{} {}\\t Draw\".format(match[\"home_team_name\"],match[\"home_team_goal_count\"],match[\"away_team_goal_count\"],match[\"away_team_name\"]))\n",
    "        # Adding home_team_result attribute to get result of team1\n",
    "        home_team_result.append(\"D\")\n",
    "\n",
    "trainingData[\"home_team_result\"] = home_team_result\n",
    "\n",
    "#Writing Dataset.csv\n",
    "trainingData.to_csv('../Data/DatasetAll.csv',index=False)\n",
    "\n",
    "#Stats about trainingData\n",
    "#print(\"Dimensions of training data: {}rows X {}columns\".format(trainingData.shape[0],trainingData.shape[1]))\n",
    "\n",
    "#Printing list of attributes\n",
    "print(trainingData.columns)\n",
    "\n"
   ]
  },
  {
   "cell_type": "code",
   "execution_count": 4,
   "metadata": {},
   "outputs": [
    {
     "name": "stdout",
     "output_type": "stream",
     "text": [
      "          timestamp   Game Week  Pre-Match PPG (Home)  Pre-Match PPG (Away)  \\\n",
      "count  2.560000e+02  192.000000            256.000000            256.000000   \n",
      "mean   1.340380e+09    2.000000              1.407070              1.120547   \n",
      "std    1.415735e+08    0.818631              1.256998              1.149190   \n",
      "min    1.149869e+09    1.000000              0.000000              0.000000   \n",
      "25%    1.245316e+09    1.000000              0.000000              0.000000   \n",
      "50%    1.340738e+09    2.000000              1.500000              1.000000   \n",
      "75%    1.436206e+09    3.000000              3.000000              2.000000   \n",
      "max    1.531667e+09    3.000000              3.000000              3.000000   \n",
      "\n",
      "         home_ppg    away_ppg  home_team_goal_count  away_team_goal_count  \\\n",
      "count  256.000000  256.000000            256.000000            256.000000   \n",
      "mean     1.486602    1.289609              1.304688              1.164062   \n",
      "std      0.770213    0.709297              1.249681              1.146366   \n",
      "min      0.000000    0.000000              0.000000              0.000000   \n",
      "25%      1.000000    1.000000              0.000000              0.000000   \n",
      "50%      1.500000    1.250000              1.000000              1.000000   \n",
      "75%      2.200000    1.750000              2.000000              2.000000   \n",
      "max      2.710000    2.710000              7.000000              7.000000   \n",
      "\n",
      "       total_goal_count  total_goals_at_half_time  ...  \\\n",
      "count        256.000000                256.000000  ...   \n",
      "mean           2.468750                  1.011719  ...   \n",
      "std            1.598713                  0.999931  ...   \n",
      "min            0.000000                  0.000000  ...   \n",
      "25%            1.000000                  0.000000  ...   \n",
      "50%            2.000000                  1.000000  ...   \n",
      "75%            3.000000                  2.000000  ...   \n",
      "max            8.000000                  5.000000  ...   \n",
      "\n",
      "       average_cards_per_match_pre_match  odds_ft_home_team_win  odds_ft_draw  \\\n",
      "count                         256.000000             256.000000    256.000000   \n",
      "mean                            2.772148               0.848633      0.985938   \n",
      "std                             2.151423               2.011254      1.800299   \n",
      "min                             0.000000               0.000000      0.000000   \n",
      "25%                             0.000000               0.000000      0.000000   \n",
      "50%                             3.000000               0.000000      0.000000   \n",
      "75%                             4.000000               0.300000      0.687500   \n",
      "max                             9.000000              15.500000      7.250000   \n",
      "\n",
      "       odds_ft_away_team_win  odds_ft_over15  odds_ft_over25  odds_ft_over35  \\\n",
      "count             256.000000      256.000000      256.000000      256.000000   \n",
      "mean                1.246836        0.346250        0.546602        1.019336   \n",
      "std                 3.090996        0.604309        0.967292        1.843305   \n",
      "min                 0.000000        0.000000        0.000000        0.000000   \n",
      "25%                 0.000000        0.000000        0.000000        0.000000   \n",
      "50%                 0.000000        0.000000        0.000000        0.000000   \n",
      "75%                 0.290000        0.280000        0.352500        0.500000   \n",
      "max                20.250000        1.650000        3.000000        6.300000   \n",
      "\n",
      "       odds_ft_over45  odds_btts_yes  odds_btts_no  \n",
      "count      256.000000     256.000000    256.000000  \n",
      "mean         2.462734       0.520117      0.423516  \n",
      "std          5.357561       0.909730      0.740084  \n",
      "min          0.000000       0.000000      0.000000  \n",
      "25%          0.000000       0.000000      0.000000  \n",
      "50%          0.000000       0.000000      0.000000  \n",
      "75%          0.875000       0.390000      0.352500  \n",
      "max         41.000000       2.700000      2.300000  \n",
      "\n",
      "[8 rows x 44 columns]\n"
     ]
    }
   ],
   "source": [
    "#Getting statistics about attributes\n",
    "print(trainingData.describe())"
   ]
  },
  {
   "cell_type": "code",
   "execution_count": 5,
   "metadata": {},
   "outputs": [
    {
     "data": {
      "image/png": "[encoded data removed]",
      "text/plain": [
       "<Figure size 432x288 with 1 Axes>"
      ]
     },
     "metadata": {
      "needs_background": "light"
     },
     "output_type": "display_data"
    }
   ],
   "source": [
    "# Data Visualisation\n",
    "goalsByHomeTeam = trainingData[\"home_team_goal_count\"].values\n",
    "cornersByHomeTeam = trainingData[\"home_team_corner_count\"].values\n",
    "plt.scatter(cornersByHomeTeam,goalsByHomeTeam,s=50)\n",
    "plt.show()\n",
    "\n"
   ]
  }
 ],
 "metadata": {
  "interpreter": {
   "hash": "aee8b7b246df8f9039afb4144a1f6fd8d2ca17a180786b69acc140d282b71a49"
  },
  "kernelspec": {
   "display_name": "Python 3.9.12 64-bit",
   "language": "python",
   "name": "python3"
  },
  "language_info": {
   "codemirror_mode": {
    "name": "ipython",
    "version": 3
   },
   "file_extension": ".py",
   "mimetype": "text/x-python",
   "name": "python",
   "nbconvert_exporter": "python",
   "pygments_lexer": "ipython3",
   "version": "3.9.12"
  },
  "orig_nbformat": 4
 },
 "nbformat": 4,
 "nbformat_minor": 2
}
